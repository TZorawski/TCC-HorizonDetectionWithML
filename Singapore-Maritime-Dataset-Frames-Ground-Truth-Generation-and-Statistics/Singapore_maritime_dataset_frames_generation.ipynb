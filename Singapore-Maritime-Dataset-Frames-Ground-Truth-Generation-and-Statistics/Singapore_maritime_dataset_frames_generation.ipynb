{
 "cells": [
  {
   "cell_type": "markdown",
   "metadata": {},
   "source": [
    "# Singapore maritime dataset frames generation\n",
    "a\n",
    "\n",
    "a\n",
    "\n",
    "a\n",
    "\n",
    "a\n"
   ]
  },
  {
   "cell_type": "code",
   "execution_count": 1,
   "metadata": {},
   "outputs": [],
   "source": [
    "from scipy.io import loadmat\n",
    "from os import listdir\n",
    "from os.path import isfile, join\n",
    "import cv2\n",
    "from PIL import Image, ImageDraw\n",
    "import PIL\n",
    "import math\n",
    "\n",
    "# dimensions to save the images\n",
    "x_size = 400\n",
    "y_size = 225"
   ]
  },
  {
   "cell_type": "markdown",
   "metadata": {},
   "source": [
    "Load the videos paths for both onboard and onshore data and generate dictionaries with it."
   ]
  },
  {
   "cell_type": "code",
   "execution_count": 2,
   "metadata": {},
   "outputs": [],
   "source": [
    "# Set the paths for the video files and ground truth files\n",
    "\n",
    "\"\"\"\n",
    "VIDEOS_PATH_ONSHORE = \"../../Dataset/VIS_Onshore/Videos\"\n",
    "HORIZON_ANNOTATIONS_ONSHORE_PATH = \"../../Dataset/VIS_Onshore/HorizonGT\"\n",
    "VIDEO_FRAMES_PATH_ONSHORE = '../../Dataset/VIS_Onshore_frames/'\n",
    "\"\"\"\n",
    "\n",
    "VIDEOS_PATH_ONBOARD = \"../../Dataset/VIS_Onboard/Videos\"\n",
    "HORIZON_ANNOTATIONS_ONBOARD_PATH = \"../../Dataset/VIS_Onboard/HorizonGT\"\n",
    "VIDEO_FRAMES_PATH_ONBOARD = '../../Dataset/VIS_Onboard/VIS_Onboard_frames/'"
   ]
  },
  {
   "cell_type": "code",
   "execution_count": 3,
   "metadata": {},
   "outputs": [],
   "source": [
    "# video_files_onshore = [join(VIDEOS_PATH_ONSHORE, f) for f in listdir(VIDEOS_PATH_ONSHORE) \n",
    "#                        if isfile(join(VIDEOS_PATH_ONSHORE, f))]\n",
    "\n",
    "video_files_onboard = [join(VIDEOS_PATH_ONBOARD, f) for f in listdir(VIDEOS_PATH_ONBOARD) \n",
    "                       if isfile(join(VIDEOS_PATH_ONBOARD, f))]"
   ]
  },
  {
   "cell_type": "markdown",
   "metadata": {},
   "source": [
    "Create dictionaries for each video in the form video_name:video_path"
   ]
  },
  {
   "cell_type": "code",
   "execution_count": 4,
   "metadata": {},
   "outputs": [],
   "source": [
    "\"\"\"\n",
    "video_files_onshore_dict = {}\n",
    "for f in listdir(VIDEOS_PATH_ONSHORE):\n",
    "    if isfile(join(VIDEOS_PATH_ONSHORE, f)):\n",
    "        video_files_onshore_dict[f.split('.')[0]] = join(VIDEOS_PATH_ONSHORE, f)\n",
    "\"\"\"        \n",
    "video_files_onboard_dict = {}\n",
    "for f in listdir(VIDEOS_PATH_ONBOARD):\n",
    "    if isfile(join(VIDEOS_PATH_ONBOARD, f)):\n",
    "        video_files_onboard_dict[f.split('.')[0]] = join(VIDEOS_PATH_ONBOARD, f)"
   ]
  },
  {
   "cell_type": "markdown",
   "metadata": {},
   "source": [
    "Load the ground truth files paths for both onboard and onshore data and generate dictionaries with it."
   ]
  },
  {
   "cell_type": "code",
   "execution_count": 5,
   "metadata": {},
   "outputs": [],
   "source": [
    "\"\"\"\n",
    "horizon_gt_files_onshore_dict = {}\n",
    "for f in listdir(HORIZON_ANNOTATIONS_ONSHORE_PATH):\n",
    "    if isfile(join(HORIZON_ANNOTATIONS_ONSHORE_PATH, f)):\n",
    "        horizon_gt_files_onshore_dict[f.split('.')[0].replace('_HorizonGT','')] = join(HORIZON_ANNOTATIONS_ONSHORE_PATH, f)\n",
    "\"\"\"        \n",
    "horizon_gt_files_onboard_dict = {}\n",
    "for f in listdir(HORIZON_ANNOTATIONS_ONBOARD_PATH):\n",
    "    if isfile(join(HORIZON_ANNOTATIONS_ONBOARD_PATH, f)):\n",
    "        horizon_gt_files_onboard_dict[f.split('.')[0].replace('_HorizonGT','')] = join(HORIZON_ANNOTATIONS_ONBOARD_PATH, f)"
   ]
  },
  {
   "cell_type": "markdown",
   "metadata": {},
   "source": [
    "---------------------------\n",
    "\n",
    "## Do some checks\n",
    "\n",
    "#### Numbers of videos and ground truth files\n",
    "\n",
    "Do some sanity checks to see if there are equal numbers of videos and ground truth files."
   ]
  },
  {
   "cell_type": "code",
   "execution_count": 6,
   "metadata": {},
   "outputs": [
    {
     "name": "stdout",
     "output_type": "stream",
     "text": [
      "Number of onboard videos:  11\n",
      "Number of onboard ground truth files:  11\n"
     ]
    }
   ],
   "source": [
    "# print('Number of onshore videos: ', len(video_files_onshore_dict))\n",
    "# print('Number of onshore ground truth files: ', len(horizon_gt_files_onshore_dict))\n",
    "\n",
    "print('Number of onboard videos: ', len(video_files_onboard_dict))\n",
    "print('Number of onboard ground truth files: ', len(horizon_gt_files_onboard_dict))"
   ]
  },
  {
   "cell_type": "markdown",
   "metadata": {},
   "source": [
    "So there are videos without ground truth files and ground truth files without videos. These unlabelled data might be good for testing later. Let's find these videos and ground truth files."
   ]
  },
  {
   "cell_type": "code",
   "execution_count": 7,
   "metadata": {},
   "outputs": [
    {
     "name": "stdout",
     "output_type": "stream",
     "text": [
      "Unlabelled onboard videos:  []\n",
      "\n",
      "Size of video dictionaries after removing the videos without ground truth:\n",
      "Number of onboard videos:  11\n",
      "Number of onboard ground truth files:  11\n"
     ]
    }
   ],
   "source": [
    "# ground truth files are missing - find the corresponding videos\n",
    "# videos are missing - find the corresponding ground truth files\n",
    "\"\"\"\n",
    "missing_files_onshore = []\n",
    "for key in video_files_onshore_dict.keys():\n",
    "    if key not in horizon_gt_files_onshore_dict:\n",
    "        missing_files_onshore.append(key)\n",
    "        \n",
    "for key in horizon_gt_files_onshore_dict.keys():\n",
    "    if key not in video_files_onshore_dict:\n",
    "        missing_files_onshore.append(key)\n",
    "        \n",
    "print(\"Unlabelled onshore videos: \", missing_files_onshore)\n",
    "\"\"\"\n",
    "\n",
    "missing_files_onboard = []\n",
    "for key in video_files_onboard_dict.keys():\n",
    "    if key not in horizon_gt_files_onboard_dict:\n",
    "        missing_files_onboard.append(key)\n",
    "        \n",
    "for key in horizon_gt_files_onboard_dict.keys():\n",
    "    if key not in video_files_onboard_dict:\n",
    "        missing_files_onboard.append(key)\n",
    "\n",
    "print(\"Unlabelled onboard videos: \", missing_files_onboard)\n",
    "\n",
    "\n",
    "# set whether to remove or not the missing videos from the frames generation later\n",
    "remove_missing_files = True\n",
    "if remove_missing_files:\n",
    "    #for key in missing_files_onshore:\n",
    "    #    del video_files_onshore_dict[key]\n",
    "    #    del horizon_gt_files_onshore_dict[key]\n",
    "    for key in missing_files_onboard:\n",
    "        del video_files_onboard_dict[key]\n",
    "        del horizon_gt_files_onboard_dict[key]\n",
    "\n",
    "    print()\n",
    "    print('Size of video dictionaries after removing the videos without ground truth:')\n",
    "    \"\"\"\n",
    "    print('Number of onshore videos: ', len(video_files_onshore_dict))\n",
    "    print('Number of onshore ground truth files: ', len(horizon_gt_files_onshore_dict))\n",
    "    \"\"\"\n",
    "\n",
    "    print('Number of onboard videos: ', len(video_files_onboard_dict))\n",
    "    print('Number of onboard ground truth files: ', len(horizon_gt_files_onboard_dict))"
   ]
  },
  {
   "cell_type": "markdown",
   "metadata": {},
   "source": [
    "\n",
    "#### Count video frame number and GT data frame number\n",
    "\n",
    "Do some sanity checks to see if there are equal numbers of videos and ground truth files."
   ]
  },
  {
   "cell_type": "code",
   "execution_count": 8,
   "metadata": {
    "scrolled": false
   },
   "outputs": [
    {
     "name": "stdout",
     "output_type": "stream",
     "text": [
      "Total frames MVI_0788_VIS_OB : 299\n",
      "Total frames MVI_0789_VIS_OB : 279\n",
      "Total frames MVI_0790_VIS_OB : 600\n",
      "Total frames MVI_0792_VIS_OB : 299\n",
      "Total frames MVI_0794_VIS_OB : 299\n",
      "Total frames MVI_0795_VIS_OB : 255\n",
      "Total frames MVI_0796_VIS_OB : 299\n",
      "Total frames MVI_0797_VIS_OB : 600\n",
      "Total frames MVI_0799_VIS_OB : 600\n",
      "Total frames MVI_0801_VIS_OB : 600\n",
      "Total frames MVI_0804_VIS_OB : 299\n"
     ]
    }
   ],
   "source": [
    "# count video frames\n",
    "for video_key in video_files_onboard_dict:\n",
    "    vidcap = cv2.VideoCapture(video_files_onboard_dict.get(video_key))\n",
    "\n",
    "    # get total frames of video\n",
    "    total_frames = int(vidcap.get(cv2.CAP_PROP_FRAME_COUNT))\n",
    "    print(\"Total frames \" + video_key + \" : \" + str(total_frames))"
   ]
  },
  {
   "cell_type": "code",
   "execution_count": 62,
   "metadata": {},
   "outputs": [
    {
     "name": "stdout",
     "output_type": "stream",
     "text": [
      "Total GT frames MVI_0788_VIS_OB : 299\n",
      "Total GT frames MVI_0789_VIS_OB : 279\n",
      "Total GT frames MVI_0790_VIS_OB : 299\n",
      "Total GT frames MVI_0792_VIS_OB : 299\n",
      "Total GT frames MVI_0794_VIS_OB : 299\n",
      "Total GT frames MVI_0795_VIS_OB : 299\n",
      "Total GT frames MVI_0796_VIS_OB : 299\n",
      "Total GT frames MVI_0797_VIS_OB : 299\n",
      "Total GT frames MVI_0799_VIS_OB : 299\n",
      "Total GT frames MVI_0801_VIS_OB : 299\n",
      "Total GT frames MVI_0804_VIS_OB : 299\n"
     ]
    }
   ],
   "source": [
    "# count GT data frames\n",
    "for horizon_key in horizon_gt_files_onboard_dict:\n",
    "    # read GT data\n",
    "    data = loadmat(horizon_gt_files_onboard_dict.get(horizon_key))\n",
    "    \n",
    "    # get total frames of GT data\n",
    "    total_frames = len(data['structXML'][0])\n",
    "    print(\"Total GT frames \" + horizon_key + \" : \" + str(total_frames))"
   ]
  },
  {
   "cell_type": "code",
   "execution_count": 9,
   "metadata": {},
   "outputs": [
    {
     "name": "stdout",
     "output_type": "stream",
     "text": [
      "\n",
      "Size of video dictionaries after removing the videos with different numbers of frames and ground truth:\n",
      "Number of onboard videos:  6\n",
      "Number of onboard ground truth files:  6\n"
     ]
    }
   ],
   "source": [
    "\n",
    "keys = list(horizon_gt_files_onboard_dict.keys())\n",
    "\n",
    "for key in keys:\n",
    "    #print(video_files_onboard_dict.get(video_keys[i]) + \" : \" + horizon_gt_files_onboard_dict.get(horizon_keys[i]))\n",
    "    \n",
    "    # read GT data\n",
    "    data = loadmat(horizon_gt_files_onboard_dict.get(key))\n",
    "    # get total frames of GT data\n",
    "    total_frames_gt = len(data['structXML'][0])\n",
    "    \n",
    "    vidcap = cv2.VideoCapture(video_files_onboard_dict.get(key))\n",
    "    # get total frames of video\n",
    "    total_frames_video = int(vidcap.get(cv2.CAP_PROP_FRAME_COUNT))\n",
    "    \n",
    "    #print(\"* \" + str(total_frames_gt) + \" - \" + str(total_frames_video))\n",
    "    if total_frames_gt != total_frames_video:\n",
    "        del video_files_onboard_dict[key]\n",
    "        del horizon_gt_files_onboard_dict[key]\n",
    "\n",
    "print()\n",
    "print('Size of video dictionaries after removing the videos with different numbers of frames and ground truth:')\n",
    "\n",
    "print('Number of onboard videos: ', len(video_files_onboard_dict))\n",
    "print('Number of onboard ground truth files: ', len(horizon_gt_files_onboard_dict))"
   ]
  },
  {
   "cell_type": "code",
   "execution_count": 10,
   "metadata": {},
   "outputs": [
    {
     "name": "stdout",
     "output_type": "stream",
     "text": [
      "dict_keys(['MVI_0788_VIS_OB', 'MVI_0789_VIS_OB', 'MVI_0792_VIS_OB', 'MVI_0794_VIS_OB', 'MVI_0796_VIS_OB', 'MVI_0804_VIS_OB'])\n"
     ]
    }
   ],
   "source": [
    "print(video_files_onboard_dict.keys())"
   ]
  },
  {
   "cell_type": "markdown",
   "metadata": {},
   "source": [
    "---------------------------\n",
    "\n",
    "## Convert ALL frames of the videos into jpg images\n",
    " This is code to convert each video frame into a jpg image.\n",
    "\n",
    "#### Example\n",
    " This cell is for converting only one video."
   ]
  },
  {
   "cell_type": "code",
   "execution_count": null,
   "metadata": {},
   "outputs": [],
   "source": [
    "# convert a sample onshore video\n",
    "\n",
    "video_name = 'MVI_1478_VIS'\n",
    "vidcap = cv2.VideoCapture(video_files_onshore_dict.get(video_name))\n",
    "success,image = vidcap.read()\n",
    "count = 0\n",
    "success = True\n",
    "while success:\n",
    "    resized_image = cv2.resize(image, (x_size, y_size))\n",
    "    cv2.imwrite(VIDEO_FRAMES_PATH_ONSHORE + video_name + \"_frame%d.jpg\" % count, resized_image)     # save frame as JPEG file\n",
    "    success,image = vidcap.read()\n",
    "    #print('Read a new frame: ', success)\n",
    "    count += 1\n",
    "print(\"Derived %d frames\" % count)"
   ]
  },
  {
   "cell_type": "code",
   "execution_count": null,
   "metadata": {},
   "outputs": [],
   "source": [
    "# convert a sample onboard video\n",
    "\n",
    "video_name = 'MVI_0788_VIS_OB'\n",
    "vidcap = cv2.VideoCapture(video_files_onboard_dict.get(video_name))\n",
    "success,image = vidcap.read()\n",
    "count = 0\n",
    "success = True\n",
    "while success:\n",
    "    resized_image = cv2.resize(image, (x_size, y_size))\n",
    "    cv2.imwrite(VIDEO_FRAMES_PATH_ONBOARD + video_name + \"_frame%d.jpg\" % count, resized_image)     # save frame as JPEG file\n",
    "    success,image = vidcap.read()\n",
    "    #print('Read a new frame: ', success)\n",
    "    count += 1\n",
    "print(\"Derived %d frames\" % count)"
   ]
  },
  {
   "cell_type": "markdown",
   "metadata": {},
   "source": [
    "#### Convert ALL frames\n",
    "\n",
    "This cell is for converting all the videos in a folder into jpg images."
   ]
  },
  {
   "cell_type": "code",
   "execution_count": null,
   "metadata": {},
   "outputs": [],
   "source": [
    "# convert ALL on shore videos into images with 1 image per frame\n",
    "for video_key in video_files_onshore_dict:\n",
    "    #video_name = 'MVI_1478_VIS'\n",
    "    vidcap = cv2.VideoCapture(video_files_onshore_dict.get(video_key))\n",
    "    success,image = vidcap.read()\n",
    "    count = 0\n",
    "    success = True\n",
    "    while success:\n",
    "        resized_image = cv2.resize(image, (x_size, y_size))\n",
    "        cv2.imwrite(VIDEO_FRAMES_PATH_ONSHORE + video_key + \"_frame%d.jpg\" % count, resized_image)     # save frame as JPEG file\n",
    "        success,image = vidcap.read()\n",
    "        #print('Read a new frame: ', success)\n",
    "        count += 1\n",
    "    print(\"Derived %d frames\" % count)"
   ]
  },
  {
   "cell_type": "code",
   "execution_count": null,
   "metadata": {},
   "outputs": [],
   "source": [
    "# convert ALL on board videos into images with 1 image per frame\n",
    "for video_key in video_files_onboard_dict:\n",
    "    #video_name = 'MVI_1478_VIS'\n",
    "    vidcap = cv2.VideoCapture(video_files_onboard_dict.get(video_key))\n",
    "    success,image = vidcap.read()\n",
    "    count = 0\n",
    "    success = True\n",
    "    while success:\n",
    "        resized_image = cv2.resize(image, (x_size, y_size))\n",
    "        cv2.imwrite(VIDEO_FRAMES_PATH_ONBOARD + video_key + \"_frame%d.jpg\" % count, resized_image)     # save frame as JPEG file\n",
    "        success,image = vidcap.read()\n",
    "        #print('Read a new frame: ', success)\n",
    "        count += 1\n",
    "    print(\"Derived %d frames\" % count)"
   ]
  },
  {
   "cell_type": "markdown",
   "metadata": {},
   "source": [
    "---------------------------\n",
    "## Convert every N frame of a video into jpg image"
   ]
  },
  {
   "cell_type": "code",
   "execution_count": null,
   "metadata": {},
   "outputs": [],
   "source": [
    "# convert every N onshore videos into images with 1 image per frame\n",
    "for video_key in video_files_onshore_dict:\n",
    "    frame_space = 20\n",
    "    vidcap = cv2.VideoCapture(video_files_onshore_dict.get(video_key))\n",
    "    success,image = vidcap.read()\n",
    "    count = 0\n",
    "    frame_count = 0\n",
    "    success = True\n",
    "    while success:\n",
    "        if (count == 0) or ((count+1) % frame_space == 0):\n",
    "            resized_image = cv2.resize(image, (x_size, y_size))\n",
    "            cv2.imwrite(VIDEO_FRAMES_PATH_ONSHORE + video_key + \"_frame%d.jpg\" % count, resized_image)     # save frame as JPEG file\n",
    "            frame_count += 1\n",
    "        success,image = vidcap.read()\n",
    "        #print('Read a new frame: ', success)\n",
    "        count += 1\n",
    "    print(video_key)\n",
    "    print(\"Total %d frames\" % count)\n",
    "    print(\"Derived %d frames\" % frame_count)"
   ]
  },
  {
   "cell_type": "code",
   "execution_count": 22,
   "metadata": {},
   "outputs": [
    {
     "name": "stdout",
     "output_type": "stream",
     "text": [
      "MVI_0788_VIS_OB\n",
      "Total 299 frames\n",
      "Derived 15 frames\n"
     ]
    },
    {
     "ename": "KeyboardInterrupt",
     "evalue": "",
     "output_type": "error",
     "traceback": [
      "\u001b[1;31m---------------------------------------------------------------------------\u001b[0m",
      "\u001b[1;31mKeyboardInterrupt\u001b[0m                         Traceback (most recent call last)",
      "\u001b[1;32m<ipython-input-22-8da421c6e8ca>\u001b[0m in \u001b[0;36m<module>\u001b[1;34m\u001b[0m\n\u001b[0;32m     12\u001b[0m             \u001b[0mcv2\u001b[0m\u001b[1;33m.\u001b[0m\u001b[0mimwrite\u001b[0m\u001b[1;33m(\u001b[0m\u001b[0mVIDEO_FRAMES_PATH_ONBOARD\u001b[0m \u001b[1;33m+\u001b[0m \u001b[0mvideo_key\u001b[0m \u001b[1;33m+\u001b[0m \u001b[1;34m\"R_frame%d.jpg\"\u001b[0m \u001b[1;33m%\u001b[0m \u001b[0mcount\u001b[0m\u001b[1;33m,\u001b[0m \u001b[0mresized_image\u001b[0m\u001b[1;33m)\u001b[0m     \u001b[1;31m# save frame as JPEG file\u001b[0m\u001b[1;33m\u001b[0m\u001b[0m\n\u001b[0;32m     13\u001b[0m             \u001b[0mframe_count\u001b[0m \u001b[1;33m+=\u001b[0m \u001b[1;36m1\u001b[0m\u001b[1;33m\u001b[0m\u001b[0m\n\u001b[1;32m---> 14\u001b[1;33m         \u001b[0msuccess\u001b[0m\u001b[1;33m,\u001b[0m\u001b[0mimage\u001b[0m \u001b[1;33m=\u001b[0m \u001b[0mvidcap\u001b[0m\u001b[1;33m.\u001b[0m\u001b[0mread\u001b[0m\u001b[1;33m(\u001b[0m\u001b[1;33m)\u001b[0m\u001b[1;33m\u001b[0m\u001b[0m\n\u001b[0m\u001b[0;32m     15\u001b[0m         \u001b[1;31m#print('Read a new frame: ', success)\u001b[0m\u001b[1;33m\u001b[0m\u001b[1;33m\u001b[0m\u001b[0m\n\u001b[0;32m     16\u001b[0m         \u001b[0mcount\u001b[0m \u001b[1;33m+=\u001b[0m \u001b[1;36m1\u001b[0m\u001b[1;33m\u001b[0m\u001b[0m\n",
      "\u001b[1;31mKeyboardInterrupt\u001b[0m: "
     ]
    }
   ],
   "source": [
    "# convert every N onboard videos into images with 1 image per frame\n",
    "for video_key in video_files_onboard_dict:\n",
    "    frame_space = 20\n",
    "    vidcap = cv2.VideoCapture(video_files_onboard_dict.get(video_key))\n",
    "    success,image = vidcap.read()\n",
    "    count = 0\n",
    "    frame_count = 0\n",
    "    success = True\n",
    "    while success:\n",
    "        if (count == 0) or ((count+1) % frame_space == 0):\n",
    "            resized_image = cv2.resize(image, (x_size, y_size))\n",
    "            cv2.imwrite(VIDEO_FRAMES_PATH_ONBOARD + video_key + \"R_frame%d.jpg\" % count, resized_image)     # save frame as JPEG file\n",
    "            frame_count += 1\n",
    "        success,image = vidcap.read()\n",
    "        #print('Read a new frame: ', success)\n",
    "        count += 1\n",
    "    print(video_key)\n",
    "    print(\"Total %d frames\" % count)\n",
    "    print(\"Derived %d frames\" % frame_count)"
   ]
  },
  {
   "cell_type": "markdown",
   "metadata": {},
   "source": [
    "---------------------------\n",
    "\n",
    "## Generate ALL GT images\n",
    " This is code to generate the GT images using all data from valid GT files.\n",
    "\n",
    "#### Example\n",
    " This cell is for generating only one GT image."
   ]
  },
  {
   "cell_type": "code",
   "execution_count": 27,
   "metadata": {},
   "outputs": [
    {
     "name": "stdout",
     "output_type": "stream",
     "text": [
      "Dimensões do frame: 1920 x 1080\n",
      "(array([[960.5]]), array([[541.01841397]]), array([[0.03016957]]), array([[0.99954479]]))\n",
      "960.5\n",
      "541.0184139689101\n"
     ]
    }
   ],
   "source": [
    "# Read GT data\n",
    "data = loadmat(\"../../Dataset/VIS_Onboard/HorizonGT/MVI_0788_VIS_OB_HorizonGT\")\n",
    "\n",
    "# Read de base image\n",
    "frame_number = 12\n",
    "#base = np.array(Image.open(\"../../Dataset/VIS_Onboard/VIS_Onboard_frames/MVI_0788_VIS_OB_frame\" + str(frame_number) + \".jpg\"), dtype=np.uint8)\n",
    "\n",
    "# Get image dimension\n",
    "len_x, len_y = 1920, 1080\n",
    "\n",
    "# Create GT image\n",
    "# use the line below to see the horizon line in binary image ----\n",
    "# PIL.Image.new(binary chanel, (x dimension, y dimension))\n",
    "gt = PIL.Image.new('1', (len_x, len_y))\n",
    "# use the line below to see the horizon line in the sea image ----\n",
    "# Image.open(image_path)\n",
    "#gt = Image.open(\"../../Dataset/VIS_Onboard/VIS_Onboard_frames/MVI_0788_VIS_OB_frame\" + str(frame_number) + \".jpg\")\n",
    "\n",
    "# Create a draw with the image\n",
    "draw = ImageDraw.Draw(gt)\n",
    "\n",
    "# horizon = data frame <frame_number> -> (x, y, cos alpha, sen alpha) - See Explanation of GT files\n",
    "horizon = data['structXML'][0][frame_number]\n",
    "print(horizon)\n",
    "\n",
    "\n",
    "# ------- Create the horizon line -------\n",
    "# cosine and sine from GT file horizon line\n",
    "c, s = horizon[2], horizon[3]\n",
    "# horizon line angle\n",
    "rad = math.asin(horizon[3]) - math.radians(90)\n",
    "# cosine and sine to plot horizon line\n",
    "c, s = math.cos(rad), math.sin(rad)\n",
    "\n",
    "# central point\n",
    "cx = float(horizon[0][0])\n",
    "cy = float(horizon[1][0])\n",
    "print(cx)\n",
    "print(cy)\n",
    "\n",
    "# start point and end point\n",
    "x1 = 0 # start point\n",
    "y1 = cy\n",
    "x2 = len_x # end point\n",
    "y2 = cy\n",
    "\n",
    "# rotated points\n",
    "xr1 = c*(x1-cx) - s*(y1-cy) + cx\n",
    "yr1 = s*(x1-cx) + c*(y1-cy) + cy\n",
    "xr2 = c*(x2-cx) - s*(y2-cy) + cx\n",
    "yr2 = s*(x2-cx) + c*(y2-cy) + cy\n",
    "# ---------------------------------------\n",
    "\n",
    "# Draw the horizon line\n",
    "# draw.line((x start point, y start point, x end point, y end point), white color, 1 pixel of width)\n",
    "draw.line((xr1, yr1, xr2, yr2), fill=1, width=6)\n",
    "\n",
    "# Show the image\n",
    "#gt.show()\n",
    "\n",
    "gt = gt.resize((x_size, y_size))\n",
    "\n",
    "# Save the image\n",
    "gt.save(\"GTs/MVI_0788_VIS_OB_gt\" + str(frame_number) + \".jpeg\", \"JPEG\")"
   ]
  },
  {
   "cell_type": "markdown",
   "metadata": {},
   "source": [
    "#### Generate ALL GT images\n",
    "\n",
    "This cell is for generating all images using all valid GT files in a folder."
   ]
  },
  {
   "cell_type": "code",
   "execution_count": null,
   "metadata": {},
   "outputs": [],
   "source": [
    "# Generate all onshore GT images\n",
    "\n",
    "# Base image dimension\n",
    "len_x, len_y = 1920, 1080\n",
    "\n",
    "for horizon_key in horizon_gt_files_onshore_dict:\n",
    "    print(\" --- \" + horizon_key + \" --- \")\n",
    "    \n",
    "    # Read GT data\n",
    "    data = loadmat(\"../../Dataset/VIS_Onshore/HorizonGT/\" + horizon_key + \"_HorizonGT\")\n",
    "\n",
    "    # Control de frame number\n",
    "    frame_number = 0\n",
    "\n",
    "    # Read line per line of GT file\n",
    "    # horizon = data frame <frame_number> -> (x, y, cos alpha, sen alpha) - See Explanation of GT files\n",
    "    for horizon in data['structXML'][0]:\n",
    "        # Create GT image\n",
    "        # PIL.Image.new(binary chanel, (x dimension, y dimension))\n",
    "        gt = PIL.Image.new('1', (len_x, len_y))\n",
    "\n",
    "        # Create a draw with the image\n",
    "        draw = ImageDraw.Draw(gt)\n",
    "\n",
    "\n",
    "        # ------- Create the horizon line -------\n",
    "        # cosine and sine from GT file horizon line\n",
    "        c, s = horizon[2], horizon[3]\n",
    "        # horizon line angle\n",
    "        rad = math.asin(horizon[3]) - math.radians(90)\n",
    "        # cosine and sine to plot horizon line\n",
    "        c, s = math.cos(rad), math.sin(rad)\n",
    "\n",
    "        # central point\n",
    "        cx = float(horizon[0][0])\n",
    "        cy = float(horizon[1][0])\n",
    "\n",
    "        # start point and end point\n",
    "        x1 = 0 # start point\n",
    "        y1 = cy\n",
    "        x2 = len_x # end point\n",
    "        y2 = cy\n",
    "\n",
    "        # rotated points\n",
    "        xr1 = c*(x1-cx) - s*(y1-cy) + cx\n",
    "        yr1 = s*(x1-cx) + c*(y1-cy) + cy\n",
    "        xr2 = c*(x2-cx) - s*(y2-cy) + cx\n",
    "        yr2 = s*(x2-cx) + c*(y2-cy) + cy\n",
    "        # ---------------------------------------\n",
    "\n",
    "        # Draw the horizon line\n",
    "        # draw.line((x start point, y start point, x end point, y end point), white color, 1 pixel of width)\n",
    "        draw.line((xr1, yr1, xr2, yr2), fill=1, width=6)\n",
    "\n",
    "        # Show the image\n",
    "        #gt.show()\n",
    "\n",
    "        gt = gt.resize((x_size, y_size))\n",
    "\n",
    "        # Save the image\n",
    "        gt.save(\"GTs/\" + horizon_key + \"_GT\" + str(frame_number) + \".jpg\")\n",
    "        frame_number = frame_number + 1"
   ]
  },
  {
   "cell_type": "code",
   "execution_count": 29,
   "metadata": {},
   "outputs": [
    {
     "name": "stdout",
     "output_type": "stream",
     "text": [
      " --- MVI_0788_VIS_OB --- \n"
     ]
    },
    {
     "ename": "KeyboardInterrupt",
     "evalue": "",
     "output_type": "error",
     "traceback": [
      "\u001b[1;31m---------------------------------------------------------------------------\u001b[0m",
      "\u001b[1;31mKeyboardInterrupt\u001b[0m                         Traceback (most recent call last)",
      "\u001b[1;32m<ipython-input-29-44d626714d77>\u001b[0m in \u001b[0;36m<module>\u001b[1;34m\u001b[0m\n\u001b[0;32m     59\u001b[0m \u001b[1;33m\u001b[0m\u001b[0m\n\u001b[0;32m     60\u001b[0m         \u001b[1;31m# Save the image\u001b[0m\u001b[1;33m\u001b[0m\u001b[1;33m\u001b[0m\u001b[0m\n\u001b[1;32m---> 61\u001b[1;33m         \u001b[0mgt\u001b[0m\u001b[1;33m.\u001b[0m\u001b[0msave\u001b[0m\u001b[1;33m(\u001b[0m\u001b[1;34m\"GTs/\"\u001b[0m \u001b[1;33m+\u001b[0m \u001b[0mhorizon_key\u001b[0m \u001b[1;33m+\u001b[0m \u001b[1;34m\"_GT\"\u001b[0m \u001b[1;33m+\u001b[0m \u001b[0mstr\u001b[0m\u001b[1;33m(\u001b[0m\u001b[0mframe_number\u001b[0m\u001b[1;33m)\u001b[0m \u001b[1;33m+\u001b[0m \u001b[1;34m\".jpg\"\u001b[0m\u001b[1;33m)\u001b[0m\u001b[1;33m\u001b[0m\u001b[0m\n\u001b[0m\u001b[0;32m     62\u001b[0m         \u001b[0mframe_number\u001b[0m \u001b[1;33m=\u001b[0m \u001b[0mframe_number\u001b[0m \u001b[1;33m+\u001b[0m \u001b[1;36m1\u001b[0m\u001b[1;33m\u001b[0m\u001b[0m\n",
      "\u001b[1;32mc:\\users\\thais\\appdata\\local\\programs\\python\\python36\\lib\\site-packages\\PIL\\Image.py\u001b[0m in \u001b[0;36msave\u001b[1;34m(self, fp, format, **params)\u001b[0m\n\u001b[0;32m   2086\u001b[0m \u001b[1;33m\u001b[0m\u001b[0m\n\u001b[0;32m   2087\u001b[0m         \u001b[1;32mtry\u001b[0m\u001b[1;33m:\u001b[0m\u001b[1;33m\u001b[0m\u001b[0m\n\u001b[1;32m-> 2088\u001b[1;33m             \u001b[0msave_handler\u001b[0m\u001b[1;33m(\u001b[0m\u001b[0mself\u001b[0m\u001b[1;33m,\u001b[0m \u001b[0mfp\u001b[0m\u001b[1;33m,\u001b[0m \u001b[0mfilename\u001b[0m\u001b[1;33m)\u001b[0m\u001b[1;33m\u001b[0m\u001b[0m\n\u001b[0m\u001b[0;32m   2089\u001b[0m         \u001b[1;32mfinally\u001b[0m\u001b[1;33m:\u001b[0m\u001b[1;33m\u001b[0m\u001b[0m\n\u001b[0;32m   2090\u001b[0m             \u001b[1;31m# do what we can to clean up\u001b[0m\u001b[1;33m\u001b[0m\u001b[1;33m\u001b[0m\u001b[0m\n",
      "\u001b[1;32mc:\\users\\thais\\appdata\\local\\programs\\python\\python36\\lib\\site-packages\\PIL\\JpegImagePlugin.py\u001b[0m in \u001b[0;36m_save\u001b[1;34m(im, fp, filename)\u001b[0m\n\u001b[0;32m    777\u001b[0m     \u001b[0mbufsize\u001b[0m \u001b[1;33m=\u001b[0m \u001b[0mmax\u001b[0m\u001b[1;33m(\u001b[0m\u001b[0mImageFile\u001b[0m\u001b[1;33m.\u001b[0m\u001b[0mMAXBLOCK\u001b[0m\u001b[1;33m,\u001b[0m \u001b[0mbufsize\u001b[0m\u001b[1;33m,\u001b[0m \u001b[0mlen\u001b[0m\u001b[1;33m(\u001b[0m\u001b[0mexif\u001b[0m\u001b[1;33m)\u001b[0m \u001b[1;33m+\u001b[0m \u001b[1;36m5\u001b[0m\u001b[1;33m,\u001b[0m \u001b[0mlen\u001b[0m\u001b[1;33m(\u001b[0m\u001b[0mextra\u001b[0m\u001b[1;33m)\u001b[0m \u001b[1;33m+\u001b[0m \u001b[1;36m1\u001b[0m\u001b[1;33m)\u001b[0m\u001b[1;33m\u001b[0m\u001b[0m\n\u001b[0;32m    778\u001b[0m \u001b[1;33m\u001b[0m\u001b[0m\n\u001b[1;32m--> 779\u001b[1;33m     \u001b[0mImageFile\u001b[0m\u001b[1;33m.\u001b[0m\u001b[0m_save\u001b[0m\u001b[1;33m(\u001b[0m\u001b[0mim\u001b[0m\u001b[1;33m,\u001b[0m \u001b[0mfp\u001b[0m\u001b[1;33m,\u001b[0m \u001b[1;33m[\u001b[0m\u001b[1;33m(\u001b[0m\u001b[1;34m\"jpeg\"\u001b[0m\u001b[1;33m,\u001b[0m \u001b[1;33m(\u001b[0m\u001b[1;36m0\u001b[0m\u001b[1;33m,\u001b[0m \u001b[1;36m0\u001b[0m\u001b[1;33m)\u001b[0m \u001b[1;33m+\u001b[0m \u001b[0mim\u001b[0m\u001b[1;33m.\u001b[0m\u001b[0msize\u001b[0m\u001b[1;33m,\u001b[0m \u001b[1;36m0\u001b[0m\u001b[1;33m,\u001b[0m \u001b[0mrawmode\u001b[0m\u001b[1;33m)\u001b[0m\u001b[1;33m]\u001b[0m\u001b[1;33m,\u001b[0m \u001b[0mbufsize\u001b[0m\u001b[1;33m)\u001b[0m\u001b[1;33m\u001b[0m\u001b[0m\n\u001b[0m\u001b[0;32m    780\u001b[0m \u001b[1;33m\u001b[0m\u001b[0m\n\u001b[0;32m    781\u001b[0m \u001b[1;33m\u001b[0m\u001b[0m\n",
      "\u001b[1;32mc:\\users\\thais\\appdata\\local\\programs\\python\\python36\\lib\\site-packages\\PIL\\ImageFile.py\u001b[0m in \u001b[0;36m_save\u001b[1;34m(im, fp, tile, bufsize)\u001b[0m\n\u001b[0;32m    528\u001b[0m                 \u001b[0ml\u001b[0m\u001b[1;33m,\u001b[0m \u001b[0ms\u001b[0m \u001b[1;33m=\u001b[0m \u001b[0me\u001b[0m\u001b[1;33m.\u001b[0m\u001b[0mencode_to_pyfd\u001b[0m\u001b[1;33m(\u001b[0m\u001b[1;33m)\u001b[0m\u001b[1;33m\u001b[0m\u001b[0m\n\u001b[0;32m    529\u001b[0m             \u001b[1;32melse\u001b[0m\u001b[1;33m:\u001b[0m\u001b[1;33m\u001b[0m\u001b[0m\n\u001b[1;32m--> 530\u001b[1;33m                 \u001b[0ms\u001b[0m \u001b[1;33m=\u001b[0m \u001b[0me\u001b[0m\u001b[1;33m.\u001b[0m\u001b[0mencode_to_file\u001b[0m\u001b[1;33m(\u001b[0m\u001b[0mfh\u001b[0m\u001b[1;33m,\u001b[0m \u001b[0mbufsize\u001b[0m\u001b[1;33m)\u001b[0m\u001b[1;33m\u001b[0m\u001b[0m\n\u001b[0m\u001b[0;32m    531\u001b[0m             \u001b[1;32mif\u001b[0m \u001b[0ms\u001b[0m \u001b[1;33m<\u001b[0m \u001b[1;36m0\u001b[0m\u001b[1;33m:\u001b[0m\u001b[1;33m\u001b[0m\u001b[0m\n\u001b[0;32m    532\u001b[0m                 \u001b[1;32mraise\u001b[0m \u001b[0mIOError\u001b[0m\u001b[1;33m(\u001b[0m\u001b[1;34m\"encoder error %d when writing image file\"\u001b[0m \u001b[1;33m%\u001b[0m \u001b[0ms\u001b[0m\u001b[1;33m)\u001b[0m\u001b[1;33m\u001b[0m\u001b[0m\n",
      "\u001b[1;31mKeyboardInterrupt\u001b[0m: "
     ]
    }
   ],
   "source": [
    "# Generate all onboard GT images\n",
    "\n",
    "# Base image dimension\n",
    "len_x, len_y = 1920, 1080\n",
    "\n",
    "for horizon_key in horizon_gt_files_onboard_dict:\n",
    "    print(\" --- \" + horizon_key + \" --- \")\n",
    "    \n",
    "    # Read GT data\n",
    "    data = loadmat(\"../../Dataset/VIS_Onboard/HorizonGT/\" + horizon_key + \"_HorizonGT\")\n",
    "\n",
    "    # Control de frame number\n",
    "    frame_number = 0\n",
    "\n",
    "    # Read line per line of GT file\n",
    "    # horizon = data frame <frame_number> -> (x, y, cos alpha, sen alpha) - See Explanation of GT files\n",
    "    for horizon in data['structXML'][0]:\n",
    "        # Create GT image\n",
    "        # PIL.Image.new(binary chanel, (x dimension, y dimension))\n",
    "        gt = PIL.Image.new('1', (len_x, len_y))\n",
    "\n",
    "        # Create a draw with the image\n",
    "        draw = ImageDraw.Draw(gt)\n",
    "\n",
    "\n",
    "        # ------- Create the horizon line -------\n",
    "        # cosine and sine from GT file horizon line\n",
    "        c, s = horizon[2], horizon[3]\n",
    "        # horizon line angle\n",
    "        rad = math.asin(horizon[3]) - math.radians(90)\n",
    "        # cosine and sine to plot horizon line\n",
    "        c, s = math.cos(rad), math.sin(rad)\n",
    "\n",
    "        # central point\n",
    "        cx = float(horizon[0][0])\n",
    "        cy = float(horizon[1][0])\n",
    "\n",
    "        # start point and end point\n",
    "        x1 = 0 # start point\n",
    "        y1 = cy\n",
    "        x2 = len_x # end point\n",
    "        y2 = cy\n",
    "\n",
    "        # rotated points\n",
    "        xr1 = c*(x1-cx) - s*(y1-cy) + cx\n",
    "        yr1 = s*(x1-cx) + c*(y1-cy) + cy\n",
    "        xr2 = c*(x2-cx) - s*(y2-cy) + cx\n",
    "        yr2 = s*(x2-cx) + c*(y2-cy) + cy\n",
    "        # ---------------------------------------\n",
    "\n",
    "        # Draw the horizon line\n",
    "        # draw.line((x start point, y start point, x end point, y end point), white color, 1 pixel of width)\n",
    "        draw.line((xr1, yr1, xr2, yr2), fill=1, width=6)\n",
    "\n",
    "        # Show the image\n",
    "        #gt.show()\n",
    "\n",
    "        gt = gt.resize((x_size, y_size))\n",
    "\n",
    "        # Save the image\n",
    "        gt.save(\"GTs/\" + horizon_key + \"_GT\" + str(frame_number) + \".jpg\")\n",
    "        frame_number = frame_number + 1"
   ]
  },
  {
   "cell_type": "code",
   "execution_count": 30,
   "metadata": {},
   "outputs": [
    {
     "ename": "SyntaxError",
     "evalue": "invalid syntax (<ipython-input-30-261475e7229d>, line 1)",
     "output_type": "error",
     "traceback": [
      "\u001b[1;36m  File \u001b[1;32m\"<ipython-input-30-261475e7229d>\"\u001b[1;36m, line \u001b[1;32m1\u001b[0m\n\u001b[1;33m    -----------------------\u001b[0m\n\u001b[1;37m                           ^\u001b[0m\n\u001b[1;31mSyntaxError\u001b[0m\u001b[1;31m:\u001b[0m invalid syntax\n"
     ]
    }
   ],
   "source": [
    "-----------------------\n",
    "\n",
    "\n",
    "Fazer: arrmar ocave ara gerar caracerisicas com mariz"
   ]
  },
  {
   "cell_type": "code",
   "execution_count": null,
   "metadata": {},
   "outputs": [],
   "source": []
  }
 ],
 "metadata": {
  "kernelspec": {
   "display_name": "Python 3",
   "language": "python",
   "name": "python3"
  },
  "language_info": {
   "codemirror_mode": {
    "name": "ipython",
    "version": 3
   },
   "file_extension": ".py",
   "mimetype": "text/x-python",
   "name": "python",
   "nbconvert_exporter": "python",
   "pygments_lexer": "ipython3",
   "version": "3.6.2"
  }
 },
 "nbformat": 4,
 "nbformat_minor": 4
}
