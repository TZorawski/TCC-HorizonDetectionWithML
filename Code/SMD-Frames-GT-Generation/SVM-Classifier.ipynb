{
 "cells": [
  {
   "cell_type": "markdown",
   "metadata": {},
   "source": []
  },
  {
   "cell_type": "code",
   "execution_count": 1,
   "metadata": {},
   "outputs": [],
   "source": [
    "import pandas as pd\n",
    "import numpy as np\n",
    "import matplotlib.pyplot as plt\n",
    "from sklearn.model_selection import train_test_split\n",
    "from sklearn.metrics import classification_report, confusion_matrix"
   ]
  },
  {
   "cell_type": "markdown",
   "metadata": {},
   "source": [
    "## Use para testar com apenas 2 frames"
   ]
  },
  {
   "cell_type": "code",
   "execution_count": null,
   "metadata": {},
   "outputs": [],
   "source": [
    "# Reads bank currency note data into pandas dataframe\n",
    "bankdata_train = pd.read_csv(\"../METEP/Features/dados0a.csv\")\n",
    "bankdata_test = pd.read_csv(\"../METEP/Features/dados1.csv\")"
   ]
  },
  {
   "cell_type": "code",
   "execution_count": null,
   "metadata": {},
   "outputs": [],
   "source": [
    "# Divide the data into attributes and labels\n",
    "\n",
    "# Store attributes\n",
    "X_train = bankdata_train.drop('class', axis=1)\n",
    "# Store labels\n",
    "y_train = bankdata_train['class']\n",
    "\n",
    "# Store attributes\n",
    "X_test = bankdata_test.drop('class', axis=1)\n",
    "# Store labels\n",
    "y_test = bankdata_test['class']"
   ]
  },
  {
   "cell_type": "code",
   "execution_count": null,
   "metadata": {},
   "outputs": [],
   "source": [
    "# Normalizando as bases\n",
    "\n",
    "from sklearn.preprocessing import StandardScaler\n",
    "\n",
    "sc_X = StandardScaler()\n",
    "\n",
    "X_train = sc_X.fit_transform(X_train)\n",
    "X_test = sc_X.transform(X_test)"
   ]
  },
  {
   "cell_type": "markdown",
   "metadata": {},
   "source": [
    "### Use para testar com todos os frames onboard"
   ]
  },
  {
   "cell_type": "code",
   "execution_count": 7,
   "metadata": {},
   "outputs": [
    {
     "data": {
      "text/plain": [
       "(360000, 16)"
      ]
     },
     "execution_count": 7,
     "metadata": {},
     "output_type": "execute_result"
    }
   ],
   "source": [
    "videos_train = ['MVI_0788_VIS_OB', 'MVI_0789_VIS_OB', 'MVI_0792_VIS_OB', 'MVI_0794_VIS_OB', 'MVI_0796_VIS_OB']\n",
    "video_test = 'MVI_0804_VIS_OB'\n",
    "\n",
    "# Reads bank currency note data into pandas dataframe - TRAIN\n",
    "bankdata_train = pd.read_csv(\"../METEP/Features/\" + videos[0] + \"R_frame0.csv\")\n",
    "\n",
    "for i in range (5):\n",
    "    k = 0\n",
    "    print(i)\n",
    "    if i == 0:\n",
    "        k = 20\n",
    "    while k < 299:\n",
    "        print(k)\n",
    "        bankdata_train = bankdata_train.append(pd.read_csv(\"../METEP/Features/\" + videos_train[i] + \"R_frame\" + str(k) + \".csv\"))\n",
    "        k += 20\n",
    "        if videos[i] == 'MVI_0789_VIS_OB' and k == 280:\n",
    "            k = 400\n",
    "\n",
    "# Show number of lines and columns\n",
    "#bankdata.shape\n",
    "# Show a able wih some lines of he daa\n",
    "#bankdata.head()"
   ]
  },
  {
   "cell_type": "code",
   "execution_count": null,
   "metadata": {},
   "outputs": [],
   "source": [
    "# Reads bank currency note data into pandas dataframe - TEST\n",
    "\n",
    "bankdata_test = pd.read_csv(\"../METEP/Features/\" + video_test + \"R_frame0.csv\")\n",
    "\n",
    "k = 20\n",
    "while k < 299:\n",
    "    print(k)\n",
    "    bankdata_test = bankdata_test.append(pd.read_csv(\"../METEP/Features/\" + video_test + \"R_frame\" + str(k) + \".csv\"))\n",
    "    k += 20\n",
    "    if video_test == 'MVI_0789_VIS_OB' and k == 280:\n",
    "            k = 400"
   ]
  },
  {
   "cell_type": "code",
   "execution_count": 9,
   "metadata": {},
   "outputs": [],
   "source": [
    "# Divide the data into attributes and labels\n",
    "\n",
    "# Store attributes\n",
    "X_train = bankdata_train.drop('class', axis=1)\n",
    "# Store labels\n",
    "y_train = bankdata_train['class']\n",
    "\n",
    "# Store attributes\n",
    "X_test = bankdata_test.drop('class', axis=1)\n",
    "# Store labels\n",
    "y_test = bankdata_test['class']"
   ]
  },
  {
   "cell_type": "code",
   "execution_count": null,
   "metadata": {},
   "outputs": [],
   "source": [
    "# Normalizando as bases\n",
    "\n",
    "from sklearn.preprocessing import StandardScaler\n",
    "\n",
    "sc_X = StandardScaler()\n",
    "\n",
    "X_train = sc_X.fit_transform(X_train)\n",
    "X_test = sc_X.transform(X_test)"
   ]
  },
  {
   "cell_type": "markdown",
   "metadata": {},
   "source": [
    "--------------"
   ]
  },
  {
   "cell_type": "markdown",
   "metadata": {},
   "source": [
    "## Training the Algorithm"
   ]
  },
  {
   "cell_type": "code",
   "execution_count": 11,
   "metadata": {},
   "outputs": [
    {
     "data": {
      "text/plain": [
       "SVC(kernel='linear')"
      ]
     },
     "execution_count": 11,
     "metadata": {},
     "output_type": "execute_result"
    }
   ],
   "source": [
    "# Train the model\n",
    "from sklearn.svm import SVC\n",
    "svclassifier = SVC(kernel='linear', class_weight='balanced')\n",
    "svclassifier.fit(X_train, y_train)"
   ]
  },
  {
   "cell_type": "code",
   "execution_count": 12,
   "metadata": {},
   "outputs": [],
   "source": [
    "y_pred = svclassifier.predict(X_test)"
   ]
  },
  {
   "cell_type": "code",
   "execution_count": 13,
   "metadata": {},
   "outputs": [
    {
     "name": "stdout",
     "output_type": "stream",
     "text": [
      "[[70313     0]\n",
      " [ 1687     0]]\n",
      "              precision    recall  f1-score   support\n",
      "\n",
      "           0       0.98      1.00      0.99     70313\n",
      "           1       0.00      0.00      0.00      1687\n",
      "\n",
      "    accuracy                           0.98     72000\n",
      "   macro avg       0.49      0.50      0.49     72000\n",
      "weighted avg       0.95      0.98      0.96     72000\n",
      "\n"
     ]
    },
    {
     "name": "stderr",
     "output_type": "stream",
     "text": [
      "c:\\users\\thais\\appdata\\local\\programs\\python\\python36\\lib\\site-packages\\sklearn\\metrics\\_classification.py:1221: UndefinedMetricWarning: Precision and F-score are ill-defined and being set to 0.0 in labels with no predicted samples. Use `zero_division` parameter to control this behavior.\n",
      "  _warn_prf(average, modifier, msg_start, len(result))\n"
     ]
    }
   ],
   "source": [
    "from sklearn.metrics import classification_report, confusion_matrix\n",
    "print(confusion_matrix(y_test,y_pred))\n",
    "print(classification_report(y_test,y_pred))"
   ]
  },
  {
   "cell_type": "code",
   "execution_count": null,
   "metadata": {},
   "outputs": [],
   "source": []
  }
 ],
 "metadata": {
  "kernelspec": {
   "display_name": "Python 3",
   "language": "python",
   "name": "python3"
  },
  "language_info": {
   "codemirror_mode": {
    "name": "ipython",
    "version": 3
   },
   "file_extension": ".py",
   "mimetype": "text/x-python",
   "name": "python",
   "nbconvert_exporter": "python",
   "pygments_lexer": "ipython3",
   "version": "3.6.2"
  }
 },
 "nbformat": 4,
 "nbformat_minor": 4
}
