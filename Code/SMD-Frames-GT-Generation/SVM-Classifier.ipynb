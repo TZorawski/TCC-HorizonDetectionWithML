{
 "cells": [
  {
   "cell_type": "markdown",
   "metadata": {},
   "source": []
  },
  {
   "cell_type": "code",
   "execution_count": 1,
   "metadata": {},
   "outputs": [],
   "source": [
    "import pandas as pd\n",
    "import numpy as np\n",
    "import matplotlib.pyplot as plt\n",
    "from sklearn.model_selection import train_test_split\n",
    "from sklearn.metrics import classification_report, confusion_matrix"
   ]
  },
  {
   "cell_type": "markdown",
   "metadata": {},
   "source": [
    "## Use para testar com apenas 2 frames"
   ]
  },
  {
   "cell_type": "code",
   "execution_count": 2,
   "metadata": {},
   "outputs": [],
   "source": [
    "# Reads bank currency note data into pandas dataframe\n",
    "bankdata_train = pd.read_csv(\"../METEP/Features/OLD/dados0a.csv\")\n",
    "bankdata_test = pd.read_csv(\"../METEP/Features/OLD/dados1.csv\")"
   ]
  },
  {
   "cell_type": "code",
   "execution_count": 3,
   "metadata": {},
   "outputs": [],
   "source": [
    "# Divide the data into attributes and labels\n",
    "\n",
    "# Store attributes\n",
    "X_train = bankdata_train.drop('class', axis=1)\n",
    "# Store labels\n",
    "y_train = bankdata_train['class']\n",
    "\n",
    "# Store attributes\n",
    "X_test = bankdata_test.drop('class', axis=1)\n",
    "# Store labels\n",
    "y_test = bankdata_test['class']"
   ]
  },
  {
   "cell_type": "code",
   "execution_count": 4,
   "metadata": {},
   "outputs": [],
   "source": [
    "# Normalizando as bases\n",
    "\n",
    "from sklearn.preprocessing import StandardScaler\n",
    "\n",
    "sc_X = StandardScaler()\n",
    "\n",
    "X_train = sc_X.fit_transform(X_train)\n",
    "X_test = sc_X.transform(X_test)"
   ]
  },
  {
   "cell_type": "markdown",
   "metadata": {},
   "source": [
    "### Use para testar com todos os frames onboard"
   ]
  },
  {
   "cell_type": "code",
   "execution_count": 4,
   "metadata": {},
   "outputs": [
    {
     "name": "stdout",
     "output_type": "stream",
     "text": [
      "0\n",
      "20\n",
      "40\n",
      "60\n",
      "80\n",
      "100\n",
      "120\n",
      "140\n",
      "160\n",
      "180\n",
      "200\n",
      "220\n",
      "240\n",
      "260\n",
      "280\n",
      "1\n",
      "0\n",
      "20\n",
      "40\n",
      "60\n",
      "80\n",
      "100\n",
      "120\n",
      "140\n",
      "160\n",
      "180\n",
      "200\n",
      "220\n",
      "240\n",
      "260\n",
      "2\n",
      "0\n",
      "20\n",
      "40\n",
      "60\n",
      "80\n",
      "100\n",
      "120\n",
      "140\n",
      "160\n",
      "180\n",
      "200\n",
      "220\n",
      "240\n",
      "260\n",
      "280\n",
      "3\n",
      "0\n",
      "20\n",
      "40\n",
      "60\n",
      "80\n",
      "100\n",
      "120\n",
      "140\n",
      "160\n",
      "180\n",
      "200\n",
      "220\n",
      "240\n",
      "260\n",
      "280\n",
      "4\n",
      "0\n",
      "20\n",
      "40\n",
      "60\n",
      "80\n",
      "100\n",
      "120\n",
      "140\n",
      "160\n",
      "180\n",
      "200\n",
      "220\n",
      "240\n",
      "260\n",
      "280\n"
     ]
    }
   ],
   "source": [
    "videos_train = ['MVI_0788_VIS_OB', 'MVI_0789_VIS_OB', 'MVI_0792_VIS_OB', 'MVI_0794_VIS_OB', 'MVI_0796_VIS_OB']\n",
    "video_test = 'MVI_0804_VIS_OB'\n",
    "\n",
    "# Reads bank currency note data into pandas dataframe - TRAIN\n",
    "bankdata_train = pd.read_csv(\"../METEP/Features/\" + videos_train[0] + \"R_frame0.csv\")\n",
    "\n",
    "for i in range (5):\n",
    "    k = 0\n",
    "    print(i)\n",
    "    if i == 0:\n",
    "        k = 20\n",
    "    while k < 299:\n",
    "        print(k)\n",
    "        bankdata_train = bankdata_train.append(pd.read_csv(\"../METEP/Features/\" + videos_train[i] + \"R_frame\" + str(k) + \".csv\"))\n",
    "        k += 20\n",
    "        if videos_train[i] == 'MVI_0789_VIS_OB' and k == 280:\n",
    "            k = 400\n",
    "\n",
    "# Show number of lines and columns\n",
    "#bankdata.shape\n",
    "# Show a able wih some lines of he daa\n",
    "#bankdata.head()"
   ]
  },
  {
   "cell_type": "code",
   "execution_count": 5,
   "metadata": {},
   "outputs": [
    {
     "name": "stdout",
     "output_type": "stream",
     "text": [
      "20\n",
      "40\n",
      "60\n",
      "80\n",
      "100\n",
      "120\n",
      "140\n",
      "160\n",
      "180\n",
      "200\n",
      "220\n",
      "240\n",
      "260\n",
      "280\n"
     ]
    }
   ],
   "source": [
    "# Reads bank currency note data into pandas dataframe - TEST\n",
    "\n",
    "bankdata_test = pd.read_csv(\"../METEP/Features/\" + video_test + \"R_frame0.csv\")\n",
    "\n",
    "k = 20\n",
    "while k < 299:\n",
    "    print(k)\n",
    "    bankdata_test = bankdata_test.append(pd.read_csv(\"../METEP/Features/\" + video_test + \"R_frame\" + str(k) + \".csv\"))\n",
    "    k += 20\n",
    "    if video_test == 'MVI_0789_VIS_OB' and k == 280:\n",
    "            k = 400"
   ]
  },
  {
   "cell_type": "code",
   "execution_count": 6,
   "metadata": {},
   "outputs": [],
   "source": [
    "# Divide the data into attributes and labels\n",
    "\n",
    "# Store attributes\n",
    "X_train = bankdata_train.drop('class', axis=1)\n",
    "# Store labels\n",
    "y_train = bankdata_train['class']\n",
    "\n",
    "# Store attributes\n",
    "X_test = bankdata_test.drop('class', axis=1)\n",
    "# Store labels\n",
    "y_test = bankdata_test['class']"
   ]
  },
  {
   "cell_type": "code",
   "execution_count": 7,
   "metadata": {},
   "outputs": [],
   "source": [
    "# Normalizando as bases\n",
    "\n",
    "from sklearn.preprocessing import StandardScaler\n",
    "\n",
    "sc_X = StandardScaler()\n",
    "\n",
    "X_train = sc_X.fit_transform(X_train)\n",
    "X_test = sc_X.transform(X_test)"
   ]
  },
  {
   "cell_type": "markdown",
   "metadata": {},
   "source": [
    "--------------"
   ]
  },
  {
   "cell_type": "markdown",
   "metadata": {},
   "source": [
    "## Training the Algorithm"
   ]
  },
  {
   "cell_type": "code",
   "execution_count": null,
   "metadata": {},
   "outputs": [],
   "source": [
    "# Train the model\n",
    "from sklearn.svm import SVC\n",
    "svclassifier = SVC(kernel='linear', class_weight='balanced')\n",
    "svclassifier.fit(X_train, y_train)"
   ]
  },
  {
   "cell_type": "code",
   "execution_count": null,
   "metadata": {},
   "outputs": [],
   "source": [
    "y_pred = svclassifier.predict(X_test)"
   ]
  },
  {
   "cell_type": "code",
   "execution_count": null,
   "metadata": {
    "scrolled": true
   },
   "outputs": [],
   "source": [
    "from sklearn.metrics import classification_report, confusion_matrix\n",
    "print(confusion_matrix(y_test,y_pred))\n",
    "print(classification_report(y_test,y_pred))"
   ]
  },
  {
   "cell_type": "code",
   "execution_count": null,
   "metadata": {},
   "outputs": [],
   "source": []
  }
 ],
 "metadata": {
  "kernelspec": {
   "display_name": "Python 3",
   "language": "python",
   "name": "python3"
  },
  "language_info": {
   "codemirror_mode": {
    "name": "ipython",
    "version": 3
   },
   "file_extension": ".py",
   "mimetype": "text/x-python",
   "name": "python",
   "nbconvert_exporter": "python",
   "pygments_lexer": "ipython3",
   "version": "3.6.2"
  }
 },
 "nbformat": 4,
 "nbformat_minor": 4
}
