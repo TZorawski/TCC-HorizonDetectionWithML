{
 "cells": [
  {
   "cell_type": "code",
   "execution_count": 37,
   "id": "94d41ce2",
   "metadata": {},
   "outputs": [],
   "source": [
    "import numpy as np\n",
    "from PIL import Image\n",
    "from scipy.io import loadmat\n",
    "import matplotlib.pyplot as plt\n",
    "from tqdm.notebook import tqdm\n",
    "from skimage.filters.edges import convolve\n",
    "import copy\n",
    "import random\n",
    "import math\n",
    "\n",
    "# dimensions to save the image in pixels\n",
    "x_size = 400 #1920 #\n",
    "y_size = 225 #1080 #\n",
    "scale_ratio = 0.22 #(x_size*100/1920)/100\n",
    "\n",
    "videos = ['MVI_0788_VIS_OB', 'MVI_0789_VIS_OB', 'MVI_0792_VIS_OB', 'MVI_0794_VIS_OB', 'MVI_0796_VIS_OB', 'MVI_0804_VIS_OB']"
   ]
  },
  {
   "cell_type": "code",
   "execution_count": 46,
   "id": "22c6c508",
   "metadata": {},
   "outputs": [
    {
     "name": "stdout",
     "output_type": "stream",
     "text": [
      "211.31\n",
      "102.93924505190033\n",
      "0.004952839687412285\n"
     ]
    }
   ],
   "source": [
    "video = videos[5]\n",
    "\n",
    "# Read GT data\n",
    "data = loadmat(\"../../../../Dataset/VIS_Onboard/HorizonGT/\" + video + \"_HorizonGT\")\n",
    "frame_number = 298\n",
    "# Get the number of frames\n",
    "#frames_number = len(data['structXML'][0])\n",
    "\n",
    "horizon = data['structXML'][0][frame_number]\n",
    "px = horizon[0][0][0]*scale_ratio\n",
    "py = horizon[1][0][0]*scale_ratio\n",
    "m = horizon[2][0][0]/horizon[3][0][0]\n",
    "\n",
    "print(px)\n",
    "print(py)\n",
    "print(math.acos(horizon[3][0][0]))"
   ]
  },
  {
   "cell_type": "code",
   "execution_count": 2,
   "id": "3214ab81",
   "metadata": {},
   "outputs": [],
   "source": [
    "class LeastSquares(object):\n",
    "    def __init__(self, mu, bias_mu):\n",
    "        self.points = []\n",
    "        self.w = [0, 0]\n",
    "        self.mu = mu\n",
    "        self.bias_mu = bias_mu\n",
    "        \n",
    "    def addPoint(self, point):\n",
    "        self.points.append(point)        \n",
    "        \n",
    "    def setPoints(self, points):\n",
    "        self.points = points\n",
    "        \n",
    "    def steps(self, n):\n",
    "        for i in range(n):\n",
    "            self.step()\n",
    "        \n",
    "    def step(self):      \n",
    "        w = self.w\n",
    "        \n",
    "        grad = 0\n",
    "        for p in self.points:\n",
    "            grad += p[0] * (( (w[0] * p[0]) + w[1]) - p[1] ) \n",
    "        grad*=2\n",
    "        #print(grad)\n",
    "        w[0] -= (grad * self.mu)\n",
    "        \n",
    "        grad = 0\n",
    "        for p in self.points:\n",
    "            grad += 1 * (( (w[0] * p[0]) + w[1]) - p[1] )\n",
    "        grad*=2\n",
    "        #print(grad)\n",
    "        w[1] -= (grad * self.bias_mu)            \n",
    "        \n",
    "    def error(self):\n",
    "        e = 0\n",
    "        for p in self.points:\n",
    "            e += (p[1] - ((p[0] * self.w[0]) + self.w[1] ))**2\n",
    "        e /= 2\n",
    "        return e / len(self.points)\n",
    "\n",
    "    def printParams(self):\n",
    "        print(\"w: %s\" % str(self.w))\n",
    "\n",
    "    def draw(self):\n",
    "        stroke(0,0,0)\n",
    "        fill(255,0,0)\n",
    "        for p in self.points:\n",
    "            x, y = p\n",
    "            circle(x, y, 6)\n",
    "        \n",
    "        for i in range(400):\n",
    "            y = i * self.w[0] + self.w[1]\n",
    "            point(i, y)   \n",
    "            \n",
    "class LinearRANSAC(object):\n",
    "    def __init__(self, t, d, mu, bias_mu):\n",
    "        self.points = []\n",
    "        self.pointPool = []\n",
    "        self.t = t\n",
    "        self.d = d\n",
    "        self.mu = mu\n",
    "        self.bias_mu = bias_mu\n",
    "        self.lastMaybeModel = None\n",
    "        self.lastMaybeInliers = None\n",
    "        self.lastAlsoInliers = None\n",
    "        self.bestModel = None\n",
    "        self.bestErr = float(\"inf\")\n",
    "    \n",
    "    def nextPoints(self):\n",
    "        if len(self.pointPool) >= 2:\n",
    "            random.shuffle(self.pointPool)\n",
    "            p = self.pointPool[:2]\n",
    "            self.pointPool = self.pointPool[2:]\n",
    "            return p\n",
    "        else:\n",
    "            return None\n",
    "        \n",
    "    def error(self):\n",
    "        return self.bestErr\n",
    "    \n",
    "    def errorPt(self, m, p):\n",
    "        return (p[1] - ((p[0] * m[0]) + m[1] ))**2\n",
    "    \n",
    "    def linearModel(self, p1, p2):\n",
    "        d = (p1[0] - p2[0]) if p1[0] - p2[0] != 0 else 0.01\n",
    "        m = (p1[1] - p2[1]) / d\n",
    "        b = p1[1] - (m * p1[0])\n",
    "        #print(\"2-point model: %s\" % str([m,b]))\n",
    "        return [m, b]\n",
    "    \n",
    "    def addPoint(self, point):\n",
    "        self.points.append(point)\n",
    "        self.pointPool = copy.copy(self.points)\n",
    "    \n",
    "    def step(self):\n",
    "        maybeInliers = self.nextPoints()\n",
    "        self.lastMaybeInliers = maybeInliers\n",
    "        #print(\"points selected: %s\" % (maybeInliers))\n",
    "        alsoInliers = []\n",
    "        \n",
    "        if maybeInliers:\n",
    "            maybeModel = self.linearModel(maybeInliers[0], maybeInliers[1])\n",
    "            self.lastMaybeModel = maybeModel\n",
    "            for p in self.points:\n",
    "                if self.errorPt(maybeModel, p) <= self.t:\n",
    "                    alsoInliers.append(p)\n",
    "                    \n",
    "            self.lastAlsoInliers = alsoInliers\n",
    "                    \n",
    "            #print(\"alsoInliers: %d\" % len(alsoInliers))\n",
    "            if len(alsoInliers)-2 >= self.d:\n",
    "                #print(\"found viable model!\")\n",
    "                betterModel = LeastSquares(self.mu, self.bias_mu)\n",
    "                betterModel.setPoints(alsoInliers)\n",
    "                betterModel.steps(1000)\n",
    "                thisError = betterModel.error()\n",
    "                #print(\"least squares error: %.2f\" % thisError)\n",
    "                if thisError < self.bestErr:\n",
    "                    print(\"found a better model!\")\n",
    "                    self.bestModel = betterModel\n",
    "                    self.bestErr = thisError\n",
    "        else:\n",
    "            self.lastMaybeModel = None\n",
    "            self.lastMaybeInliers = None\n",
    "            self.lastAlsoInliers = None            \n",
    "            \n",
    "    def printParams(self):\n",
    "        if self.bestModel:\n",
    "            self.bestModel.printParams()\n",
    "            \n",
    "    def getParams(self):\n",
    "        if self.bestModel:\n",
    "            return self.bestModel.w\n",
    "        return None"
   ]
  },
  {
   "cell_type": "code",
   "execution_count": 3,
   "id": "34b8c4c3",
   "metadata": {},
   "outputs": [],
   "source": [
    "def estimar_fronteira(im):\n",
    "    arr = np.array(im)\n",
    "    arr2 = arr[:-1,:] - arr[1:,:]\n",
    "    arr2 = arr2[1:,:] - arr2[:-1,:]\n",
    "    arr2 = np.clip(arr2, 0, 255)\n",
    "    arr3 = convolve(arr2,np.ones((3,3))/9)\n",
    "    arr3 = convolve(arr3,np.ones((3,3))/9)\n",
    "    arr3 = convolve(arr3,np.ones((3,3))/9)\n",
    "    bw = np.copy(arr3)\n",
    "    thresh = 128\n",
    "    bw[bw<thresh] = 0\n",
    "    bw[bw>=thresh] = 255\n",
    "    bwcs = bw.cumsum(0)\n",
    "    bwcs_norm = bwcs / np.max(bwcs,0)\n",
    "    bwcs_norm[bwcs_norm<0.05] = 0\n",
    "    bwcs2 = bwcs_norm * np.max(bwcs,0)\n",
    "    est_y = (bwcs2!=0).argmax(axis=0)\n",
    "    est_y = (224-np.array(est_y))-2\n",
    "    \n",
    "    return est_y"
   ]
  },
  {
   "cell_type": "code",
   "execution_count": 4,
   "id": "cdc6e18f",
   "metadata": {},
   "outputs": [],
   "source": [
    "#def __init__(self, t, d, mu, bias_mu):\n",
    "#opt = LinearRANSAC(1, 5, 0.0000001, 0.000001 * 10000)\n",
    "\n",
    "def estimar_modelo_linear(front):\n",
    "    iterations = 1000\n",
    "    point_step = 5\n",
    "    tries = 50\n",
    "    pgb = tqdm(total=tries)\n",
    "    while tries > 0:\n",
    "        opt = LinearRANSAC(0.5, 10, 0.0000001, 0.01)\n",
    "        errors = []\n",
    "        pt_subset = []\n",
    "        pt_subset_x = []\n",
    "        init_offset = random.randint(0,len(front))\n",
    "        #print(init_offset)\n",
    "        for i in range(int(len(front) / point_step)):\n",
    "            pt_subset_x.append((init_offset + (i*point_step)) % len(front))\n",
    "            pt_subset.append(front[pt_subset_x[-1]])\n",
    "\n",
    "        pt_subset = np.array(pt_subset)\n",
    "            \n",
    "        for pt in pt_subset:\n",
    "            opt.addPoint(pt)\n",
    "            \n",
    "        for i in range(iterations):\n",
    "            opt.step()\n",
    "\n",
    "        if opt.getParams():\n",
    "            break\n",
    "        tries-=1\n",
    "        pgb.update(1)\n",
    "\n",
    "    pgb.close() \n",
    "\n",
    "    print(\"model error: %.3f\" % opt.bestModel.error())\n",
    "    opt.printParams() \n",
    "    a, b = opt.getParams()\n",
    "    estimated = list(map(lambda x: a*x + b, range(400)))\n",
    "    plt.scatter(front[:,0], front[:,1])\n",
    "    plt.scatter(pt_subset[:,0], pt_subset[:,1], c='yellow')\n",
    "    plt.plot(estimated, c='red')\n",
    "    plt.ylim(0,244)\n",
    "    plt.xlim(0,400)\n",
    "    #print(pt_subset_x)\n",
    "    \n",
    "    return opt.getParams()"
   ]
  },
  {
   "cell_type": "code",
   "execution_count": 5,
   "id": "4762317f",
   "metadata": {},
   "outputs": [],
   "source": [
    "def iqr_filter(front):\n",
    "    q1, q3 = np.quantile(front,[0.25, 0.75])\n",
    "    cond = (front >= q1) & (front <= q3)\n",
    "    pt = np.array(list(zip(range(400),front)))\n",
    "    pt_f = pt[cond]\n",
    "    return pt_f"
   ]
  },
  {
   "cell_type": "code",
   "execution_count": 61,
   "id": "f05866b1",
   "metadata": {},
   "outputs": [],
   "source": [
    "def calcular_erro(a, b):\n",
    "    estimated = lambda x: a*x + b\n",
    "    x_start_point = (0-b) / a\n",
    "    y1_point = a*(x_start_point+1) + b\n",
    "    print('x_start_point')\n",
    "    print(x_start_point)\n",
    "    print('y1_point')\n",
    "    print(y1_point)\n",
    "    y_ponto_central = estimated(x_size/2)\n",
    "    # co = y_size - estimated(x_size)\n",
    "    co = y1_point\n",
    "    alpha = math.atan(co/1)\n",
    "    print(y_ponto_central)\n",
    "    print(alpha)"
   ]
  },
  {
   "cell_type": "markdown",
   "id": "6587e53b",
   "metadata": {},
   "source": [
    "# \"main\""
   ]
  },
  {
   "cell_type": "code",
   "execution_count": 88,
   "id": "5536bac2",
   "metadata": {},
   "outputs": [
    {
     "data": {
      "application/vnd.jupyter.widget-view+json": {
       "model_id": "0113843444c7442880b747b501d17fab",
       "version_major": 2,
       "version_minor": 0
      },
      "text/plain": [
       "  0%|          | 0/50 [00:00<?, ?it/s]"
      ]
     },
     "metadata": {},
     "output_type": "display_data"
    },
    {
     "name": "stdout",
     "output_type": "stream",
     "text": [
      "found a better model!\n",
      "model error: 0.030\n",
      "w: [-0.008771802762716241, 125.98180604026592]\n",
      "x_start_point\n",
      "14362.133924823329\n",
      "y1_point\n",
      "-0.008771802762723269\n",
      "124.22744548772268\n",
      "-0.008771577792380773\n"
     ]
    },
    {
     "data": {
      "image/png": "[encoded data removed]",
      "text/plain": [
       "<Figure size 432x288 with 1 Axes>"
      ]
     },
     "metadata": {
      "needs_background": "light"
     },
     "output_type": "display_data"
    }
   ],
   "source": [
    "im = Image.open(\"MVI_0804_VIS_OB_frame298.jpg\")\n",
    "im = im.convert(\"L\")\n",
    "front = estimar_fronteira(im)\n",
    "front = iqr_filter(front)\n",
    "a, b = estimar_modelo_linear(front)\n",
    "calcular_erro(a, b)"
   ]
  },
  {
   "cell_type": "code",
   "execution_count": 87,
   "id": "2cfdd8c6",
   "metadata": {},
   "outputs": [
    {
     "data": {
      "application/vnd.jupyter.widget-view+json": {
       "model_id": "4bb86e08727d4067a29e63092cc47117",
       "version_major": 2,
       "version_minor": 0
      },
      "text/plain": [
       "  0%|          | 0/50 [00:00<?, ?it/s]"
      ]
     },
     "metadata": {},
     "output_type": "display_data"
    },
    {
     "name": "stdout",
     "output_type": "stream",
     "text": [
      "found a better model!\n",
      "model error: 0.065\n",
      "w: [-0.007260090137364322, 125.52044232552441]\n"
     ]
    },
    {
     "data": {
      "text/plain": [
       "[[-0.007260090137364322, 125.52044232552441]]"
      ]
     },
     "execution_count": 87,
     "metadata": {},
     "output_type": "execute_result"
    },
    {
     "data": {
      "image/png": "[encoded data removed]",
      "text/plain": [
       "<Figure size 432x288 with 1 Axes>"
      ]
     },
     "metadata": {
      "needs_background": "light"
     },
     "output_type": "display_data"
    }
   ],
   "source": [
    "results = []\n",
    "results.append(estimar_modelo_linear(front))\n",
    "results"
   ]
  },
  {
   "cell_type": "code",
   "execution_count": 34,
   "id": "caf3b4c2",
   "metadata": {},
   "outputs": [
    {
     "data": {
      "application/vnd.jupyter.widget-view+json": {
       "model_id": "8d1baa2292064a7c9eb2012f450dd8d1",
       "version_major": 2,
       "version_minor": 0
      },
      "text/plain": [
       "  0%|          | 0/50 [00:00<?, ?it/s]"
      ]
     },
     "metadata": {},
     "output_type": "display_data"
    },
    {
     "name": "stdout",
     "output_type": "stream",
     "text": [
      "found a better model!\n",
      "found a better model!\n",
      "found a better model!\n",
      "model error: 0.038\n",
      "w: [-0.04076557511763341, 145.56808473784554]\n"
     ]
    },
    {
     "data": {
      "application/vnd.jupyter.widget-view+json": {
       "model_id": "3f0f46a883ce4d9f903ee722e4628949",
       "version_major": 2,
       "version_minor": 0
      },
      "text/plain": [
       "  0%|          | 0/50 [00:00<?, ?it/s]"
      ]
     },
     "metadata": {},
     "output_type": "display_data"
    },
    {
     "name": "stdout",
     "output_type": "stream",
     "text": [
      "found a better model!\n",
      "found a better model!\n",
      "found a better model!\n",
      "model error: 0.051\n",
      "w: [-0.031395877959394164, 143.1242592981663]\n"
     ]
    },
    {
     "data": {
      "application/vnd.jupyter.widget-view+json": {
       "model_id": "b486b5214ed74f2f949e5c89deb219c4",
       "version_major": 2,
       "version_minor": 0
      },
      "text/plain": [
       "  0%|          | 0/50 [00:00<?, ?it/s]"
      ]
     },
     "metadata": {},
     "output_type": "display_data"
    },
    {
     "name": "stdout",
     "output_type": "stream",
     "text": [
      "found a better model!\n",
      "found a better model!\n",
      "model error: 0.055\n",
      "w: [-0.010729152535944843, 137.51324708553662]\n"
     ]
    },
    {
     "data": {
      "application/vnd.jupyter.widget-view+json": {
       "model_id": "ec97d0b5c081457a90587646ab56bfff",
       "version_major": 2,
       "version_minor": 0
      },
      "text/plain": [
       "  0%|          | 0/50 [00:00<?, ?it/s]"
      ]
     },
     "metadata": {},
     "output_type": "display_data"
    },
    {
     "name": "stdout",
     "output_type": "stream",
     "text": [
      "found a better model!\n",
      "found a better model!\n",
      "found a better model!\n",
      "found a better model!\n",
      "model error: 0.045\n",
      "w: [-0.00947034668754211, 131.36125691697342]\n"
     ]
    },
    {
     "data": {
      "application/vnd.jupyter.widget-view+json": {
       "model_id": "f73abec56ae74837b2f5c6e97a924e44",
       "version_major": 2,
       "version_minor": 0
      },
      "text/plain": [
       "  0%|          | 0/50 [00:00<?, ?it/s]"
      ]
     },
     "metadata": {},
     "output_type": "display_data"
    },
    {
     "name": "stdout",
     "output_type": "stream",
     "text": [
      "found a better model!\n",
      "found a better model!\n",
      "model error: 0.042\n",
      "w: [-0.03269874272154411, 134.53705960087012]\n"
     ]
    },
    {
     "data": {
      "application/vnd.jupyter.widget-view+json": {
       "model_id": "7c3eaf07c8bb4753a14950549237425e",
       "version_major": 2,
       "version_minor": 0
      },
      "text/plain": [
       "  0%|          | 0/50 [00:00<?, ?it/s]"
      ]
     },
     "metadata": {},
     "output_type": "display_data"
    },
    {
     "name": "stdout",
     "output_type": "stream",
     "text": [
      "found a better model!\n",
      "found a better model!\n",
      "found a better model!\n",
      "found a better model!\n",
      "model error: 0.056\n",
      "w: [-0.04495462675356661, 129.86982305276481]\n"
     ]
    },
    {
     "data": {
      "application/vnd.jupyter.widget-view+json": {
       "model_id": "53a5819e56ed4a7ca3d0eb8f5269cd90",
       "version_major": 2,
       "version_minor": 0
      },
      "text/plain": [
       "  0%|          | 0/50 [00:00<?, ?it/s]"
      ]
     },
     "metadata": {},
     "output_type": "display_data"
    },
    {
     "name": "stdout",
     "output_type": "stream",
     "text": [
      "found a better model!\n",
      "found a better model!\n",
      "model error: 0.061\n",
      "w: [0.003751255432224132, 115.96556324535075]\n"
     ]
    },
    {
     "data": {
      "application/vnd.jupyter.widget-view+json": {
       "model_id": "e55ebe6417634ab196174342c10546eb",
       "version_major": 2,
       "version_minor": 0
      },
      "text/plain": [
       "  0%|          | 0/50 [00:00<?, ?it/s]"
      ]
     },
     "metadata": {},
     "output_type": "display_data"
    },
    {
     "name": "stdout",
     "output_type": "stream",
     "text": [
      "found a better model!\n",
      "found a better model!\n",
      "found a better model!\n",
      "found a better model!\n",
      "found a better model!\n",
      "model error: 0.035\n",
      "w: [-0.015402005861138934, 116.41862260007971]\n"
     ]
    },
    {
     "data": {
      "application/vnd.jupyter.widget-view+json": {
       "model_id": "4e284cd966ba4b0da36af04ff47dc063",
       "version_major": 2,
       "version_minor": 0
      },
      "text/plain": [
       "  0%|          | 0/50 [00:00<?, ?it/s]"
      ]
     },
     "metadata": {},
     "output_type": "display_data"
    },
    {
     "name": "stdout",
     "output_type": "stream",
     "text": [
      "found a better model!\n",
      "found a better model!\n",
      "found a better model!\n",
      "found a better model!\n",
      "model error: 0.039\n",
      "w: [-0.037500924185960946, 117.13704110439605]\n"
     ]
    },
    {
     "data": {
      "application/vnd.jupyter.widget-view+json": {
       "model_id": "8ecad49288e548a9851f48c783c3c058",
       "version_major": 2,
       "version_minor": 0
      },
      "text/plain": [
       "  0%|          | 0/50 [00:00<?, ?it/s]"
      ]
     },
     "metadata": {},
     "output_type": "display_data"
    },
    {
     "name": "stdout",
     "output_type": "stream",
     "text": [
      "found a better model!\n",
      "found a better model!\n",
      "found a better model!\n",
      "found a better model!\n",
      "found a better model!\n",
      "model error: 0.033\n",
      "w: [-0.008980326467093512, 105.78292138167009]\n"
     ]
    },
    {
     "data": {
      "application/vnd.jupyter.widget-view+json": {
       "model_id": "7d675a4543d7437eb4154757cf7bf1b7",
       "version_major": 2,
       "version_minor": 0
      },
      "text/plain": [
       "  0%|          | 0/50 [00:00<?, ?it/s]"
      ]
     },
     "metadata": {},
     "output_type": "display_data"
    },
    {
     "name": "stdout",
     "output_type": "stream",
     "text": [
      "found a better model!\n",
      "found a better model!\n",
      "found a better model!\n",
      "model error: 0.026\n",
      "w: [-0.03155935692204121, 107.36675694936156]\n"
     ]
    },
    {
     "data": {
      "application/vnd.jupyter.widget-view+json": {
       "model_id": "c925bf42fd424e869f3b0cbdf87671e9",
       "version_major": 2,
       "version_minor": 0
      },
      "text/plain": [
       "  0%|          | 0/50 [00:00<?, ?it/s]"
      ]
     },
     "metadata": {},
     "output_type": "display_data"
    },
    {
     "name": "stdout",
     "output_type": "stream",
     "text": [
      "found a better model!\n",
      "found a better model!\n",
      "model error: 0.049\n",
      "w: [-0.010240156029120914, 99.19704173046614]\n"
     ]
    },
    {
     "data": {
      "application/vnd.jupyter.widget-view+json": {
       "model_id": "6ca527bad42a47e19e92a405244560f2",
       "version_major": 2,
       "version_minor": 0
      },
      "text/plain": [
       "  0%|          | 0/50 [00:00<?, ?it/s]"
      ]
     },
     "metadata": {},
     "output_type": "display_data"
    },
    {
     "name": "stdout",
     "output_type": "stream",
     "text": [
      "found a better model!\n",
      "found a better model!\n",
      "model error: 0.042\n",
      "w: [-0.01776685421312418, 99.1383661362445]\n"
     ]
    },
    {
     "data": {
      "application/vnd.jupyter.widget-view+json": {
       "model_id": "26c89cd7099c437284f72470c6ce12e4",
       "version_major": 2,
       "version_minor": 0
      },
      "text/plain": [
       "  0%|          | 0/50 [00:00<?, ?it/s]"
      ]
     },
     "metadata": {},
     "output_type": "display_data"
    },
    {
     "name": "stdout",
     "output_type": "stream",
     "text": [
      "found a better model!\n",
      "model error: 0.074\n",
      "w: [-0.01926812303122736, 95.87224001896922]\n"
     ]
    },
    {
     "data": {
      "application/vnd.jupyter.widget-view+json": {
       "model_id": "ece3420365ca4c1c99c0ea4932030a6c",
       "version_major": 2,
       "version_minor": 0
      },
      "text/plain": [
       "  0%|          | 0/50 [00:00<?, ?it/s]"
      ]
     },
     "metadata": {},
     "output_type": "display_data"
    },
    {
     "name": "stdout",
     "output_type": "stream",
     "text": [
      "found a better model!\n",
      "found a better model!\n",
      "model error: 0.031\n",
      "w: [-0.03452318136922205, 93.45356603810436]\n"
     ]
    },
    {
     "data": {
      "application/vnd.jupyter.widget-view+json": {
       "model_id": "d6bd1040d25d40cf8a6227c10093c7bb",
       "version_major": 2,
       "version_minor": 0
      },
      "text/plain": [
       "  0%|          | 0/50 [00:00<?, ?it/s]"
      ]
     },
     "metadata": {},
     "output_type": "display_data"
    },
    {
     "name": "stdout",
     "output_type": "stream",
     "text": [
      "found a better model!\n",
      "found a better model!\n",
      "found a better model!\n",
      "model error: 0.051\n",
      "w: [-0.02108870682035966, 90.4188448385809]\n"
     ]
    },
    {
     "data": {
      "application/vnd.jupyter.widget-view+json": {
       "model_id": "7595a88ac6144ccb90b41910a02be40a",
       "version_major": 2,
       "version_minor": 0
      },
      "text/plain": [
       "  0%|          | 0/50 [00:00<?, ?it/s]"
      ]
     },
     "metadata": {},
     "output_type": "display_data"
    },
    {
     "name": "stdout",
     "output_type": "stream",
     "text": [
      "found a better model!\n",
      "model error: 0.063\n",
      "w: [-0.015386876195999556, 88.68840155307808]\n"
     ]
    },
    {
     "data": {
      "application/vnd.jupyter.widget-view+json": {
       "model_id": "bd268a3a4205485c871ae4a351926e77",
       "version_major": 2,
       "version_minor": 0
      },
      "text/plain": [
       "  0%|          | 0/50 [00:00<?, ?it/s]"
      ]
     },
     "metadata": {},
     "output_type": "display_data"
    },
    {
     "name": "stdout",
     "output_type": "stream",
     "text": [
      "found a better model!\n",
      "found a better model!\n",
      "found a better model!\n",
      "found a better model!\n",
      "model error: 0.061\n",
      "w: [-0.01928859011914062, 87.59151665559818]\n"
     ]
    },
    {
     "data": {
      "application/vnd.jupyter.widget-view+json": {
       "model_id": "325d9e6eb60c44f8a5e4a2ea1a5e9389",
       "version_major": 2,
       "version_minor": 0
      },
      "text/plain": [
       "  0%|          | 0/50 [00:00<?, ?it/s]"
      ]
     },
     "metadata": {},
     "output_type": "display_data"
    },
    {
     "name": "stdout",
     "output_type": "stream",
     "text": [
      "found a better model!\n",
      "found a better model!\n",
      "model error: 0.031\n",
      "w: [-0.01623499289186491, 87.98991303940332]\n"
     ]
    },
    {
     "data": {
      "application/vnd.jupyter.widget-view+json": {
       "model_id": "db4de4fd335b43b48a58d9784d307008",
       "version_major": 2,
       "version_minor": 0
      },
      "text/plain": [
       "  0%|          | 0/50 [00:00<?, ?it/s]"
      ]
     },
     "metadata": {},
     "output_type": "display_data"
    },
    {
     "name": "stdout",
     "output_type": "stream",
     "text": [
      "found a better model!\n",
      "model error: 0.040\n",
      "w: [-0.010623943586836389, 85.64385637299189]\n"
     ]
    },
    {
     "data": {
      "application/vnd.jupyter.widget-view+json": {
       "model_id": "6cd73118e3544cd48a03433b39078235",
       "version_major": 2,
       "version_minor": 0
      },
      "text/plain": [
       "  0%|          | 0/50 [00:00<?, ?it/s]"
      ]
     },
     "metadata": {},
     "output_type": "display_data"
    },
    {
     "name": "stdout",
     "output_type": "stream",
     "text": [
      "found a better model!\n",
      "found a better model!\n",
      "found a better model!\n",
      "found a better model!\n",
      "model error: 0.024\n",
      "w: [-0.031253417397189745, 89.177566976034]\n"
     ]
    },
    {
     "data": {
      "application/vnd.jupyter.widget-view+json": {
       "model_id": "a499f183cc5d44e29c9ceb441583783c",
       "version_major": 2,
       "version_minor": 0
      },
      "text/plain": [
       "  0%|          | 0/50 [00:00<?, ?it/s]"
      ]
     },
     "metadata": {},
     "output_type": "display_data"
    },
    {
     "name": "stdout",
     "output_type": "stream",
     "text": [
      "found a better model!\n",
      "found a better model!\n",
      "found a better model!\n",
      "found a better model!\n",
      "model error: 0.031\n",
      "w: [-0.004424826716988961, 85.22345611772953]\n"
     ]
    },
    {
     "data": {
      "application/vnd.jupyter.widget-view+json": {
       "model_id": "d4c50b605ea640c195d2a9939a8cee28",
       "version_major": 2,
       "version_minor": 0
      },
      "text/plain": [
       "  0%|          | 0/50 [00:00<?, ?it/s]"
      ]
     },
     "metadata": {},
     "output_type": "display_data"
    },
    {
     "name": "stdout",
     "output_type": "stream",
     "text": [
      "found a better model!\n",
      "found a better model!\n",
      "found a better model!\n",
      "found a better model!\n",
      "found a better model!\n",
      "model error: 0.045\n",
      "w: [-0.025516563147694758, 86.09140879137821]\n"
     ]
    },
    {
     "data": {
      "application/vnd.jupyter.widget-view+json": {
       "model_id": "5a4c854267544324898efa648636db1f",
       "version_major": 2,
       "version_minor": 0
      },
      "text/plain": [
       "  0%|          | 0/50 [00:00<?, ?it/s]"
      ]
     },
     "metadata": {},
     "output_type": "display_data"
    },
    {
     "name": "stdout",
     "output_type": "stream",
     "text": [
      "found a better model!\n",
      "found a better model!\n",
      "found a better model!\n",
      "model error: 0.031\n",
      "w: [-0.017182619779914726, 85.84031548939214]\n"
     ]
    },
    {
     "data": {
      "application/vnd.jupyter.widget-view+json": {
       "model_id": "057793d9b9074c74a0199aa3e2314f01",
       "version_major": 2,
       "version_minor": 0
      },
      "text/plain": [
       "  0%|          | 0/50 [00:00<?, ?it/s]"
      ]
     },
     "metadata": {},
     "output_type": "display_data"
    },
    {
     "name": "stdout",
     "output_type": "stream",
     "text": [
      "found a better model!\n",
      "found a better model!\n",
      "found a better model!\n",
      "model error: 0.036\n",
      "w: [-0.009926438200672577, 85.74863279752206]\n"
     ]
    },
    {
     "data": {
      "application/vnd.jupyter.widget-view+json": {
       "model_id": "7f23e3d87a744ab0a0fa9a7a07ee6dc4",
       "version_major": 2,
       "version_minor": 0
      },
      "text/plain": [
       "  0%|          | 0/50 [00:00<?, ?it/s]"
      ]
     },
     "metadata": {},
     "output_type": "display_data"
    },
    {
     "name": "stdout",
     "output_type": "stream",
     "text": [
      "found a better model!\n",
      "found a better model!\n",
      "found a better model!\n",
      "model error: 0.029\n",
      "w: [-0.046375917017313945, 92.41311554013923]\n"
     ]
    },
    {
     "data": {
      "application/vnd.jupyter.widget-view+json": {
       "model_id": "7553ff01db284d7a9193e88729e51e67",
       "version_major": 2,
       "version_minor": 0
      },
      "text/plain": [
       "  0%|          | 0/50 [00:00<?, ?it/s]"
      ]
     },
     "metadata": {},
     "output_type": "display_data"
    },
    {
     "name": "stdout",
     "output_type": "stream",
     "text": [
      "found a better model!\n",
      "found a better model!\n",
      "model error: 0.052\n",
      "w: [-0.025777739888036093, 92.61271452348667]\n"
     ]
    },
    {
     "data": {
      "application/vnd.jupyter.widget-view+json": {
       "model_id": "6476014ec4c3405e81a7db47fedc1de3",
       "version_major": 2,
       "version_minor": 0
      },
      "text/plain": [
       "  0%|          | 0/50 [00:00<?, ?it/s]"
      ]
     },
     "metadata": {},
     "output_type": "display_data"
    },
    {
     "name": "stdout",
     "output_type": "stream",
     "text": [
      "found a better model!\n",
      "found a better model!\n",
      "model error: 0.037\n",
      "w: [-0.0215117698315346, 95.7073714823132]\n"
     ]
    },
    {
     "data": {
      "application/vnd.jupyter.widget-view+json": {
       "model_id": "7116e1066f85430e9265148cfd193760",
       "version_major": 2,
       "version_minor": 0
      },
      "text/plain": [
       "  0%|          | 0/50 [00:00<?, ?it/s]"
      ]
     },
     "metadata": {},
     "output_type": "display_data"
    },
    {
     "name": "stdout",
     "output_type": "stream",
     "text": [
      "found a better model!\n",
      "model error: 0.047\n",
      "w: [-0.01024554669002919, 96.87961427594851]\n"
     ]
    },
    {
     "data": {
      "application/vnd.jupyter.widget-view+json": {
       "model_id": "53476a9e03f445378f5d532d4fba3666",
       "version_major": 2,
       "version_minor": 0
      },
      "text/plain": [
       "  0%|          | 0/50 [00:00<?, ?it/s]"
      ]
     },
     "metadata": {},
     "output_type": "display_data"
    },
    {
     "name": "stdout",
     "output_type": "stream",
     "text": [
      "found a better model!\n",
      "found a better model!\n",
      "model error: 0.031\n",
      "w: [-0.028112738725596158, 106.44055961146734]\n"
     ]
    },
    {
     "data": {
      "application/vnd.jupyter.widget-view+json": {
       "model_id": "62fcb724cf514702ac6c440cc6fbeb5c",
       "version_major": 2,
       "version_minor": 0
      },
      "text/plain": [
       "  0%|          | 0/50 [00:00<?, ?it/s]"
      ]
     },
     "metadata": {},
     "output_type": "display_data"
    },
    {
     "name": "stdout",
     "output_type": "stream",
     "text": [
      "found a better model!\n",
      "found a better model!\n",
      "found a better model!\n",
      "model error: 0.051\n",
      "w: [-0.009240238336838425, 108.14279415142853]\n"
     ]
    },
    {
     "data": {
      "application/vnd.jupyter.widget-view+json": {
       "model_id": "d0cda569c1704f4990b63e3da0eb71dc",
       "version_major": 2,
       "version_minor": 0
      },
      "text/plain": [
       "  0%|          | 0/50 [00:00<?, ?it/s]"
      ]
     },
     "metadata": {},
     "output_type": "display_data"
    },
    {
     "name": "stdout",
     "output_type": "stream",
     "text": [
      "found a better model!\n",
      "found a better model!\n",
      "found a better model!\n",
      "found a better model!\n",
      "model error: 0.011\n",
      "w: [0.0030654413016985046, 108.33314144757358]\n"
     ]
    },
    {
     "data": {
      "application/vnd.jupyter.widget-view+json": {
       "model_id": "b8a821c70bf548879c1d06fd1f0cd56d",
       "version_major": 2,
       "version_minor": 0
      },
      "text/plain": [
       "  0%|          | 0/50 [00:00<?, ?it/s]"
      ]
     },
     "metadata": {},
     "output_type": "display_data"
    },
    {
     "name": "stdout",
     "output_type": "stream",
     "text": [
      "found a better model!\n",
      "found a better model!\n",
      "found a better model!\n",
      "model error: 0.034\n",
      "w: [-0.01341110493089637, 117.56084727530633]\n"
     ]
    },
    {
     "data": {
      "application/vnd.jupyter.widget-view+json": {
       "model_id": "1ba9b909b29144268bc176821e1a315f",
       "version_major": 2,
       "version_minor": 0
      },
      "text/plain": [
       "  0%|          | 0/50 [00:00<?, ?it/s]"
      ]
     },
     "metadata": {},
     "output_type": "display_data"
    },
    {
     "name": "stdout",
     "output_type": "stream",
     "text": [
      "found a better model!\n",
      "found a better model!\n",
      "found a better model!\n",
      "found a better model!\n",
      "model error: 0.047\n",
      "w: [-0.028091270754321305, 123.10046707348454]\n"
     ]
    },
    {
     "data": {
      "application/vnd.jupyter.widget-view+json": {
       "model_id": "e91407bb34ed49faafbc2ae4da4f79c4",
       "version_major": 2,
       "version_minor": 0
      },
      "text/plain": [
       "  0%|          | 0/50 [00:00<?, ?it/s]"
      ]
     },
     "metadata": {},
     "output_type": "display_data"
    },
    {
     "name": "stdout",
     "output_type": "stream",
     "text": [
      "found a better model!\n",
      "model error: 0.051\n",
      "w: [-0.02443200989158661, 130.02924557350642]\n"
     ]
    },
    {
     "data": {
      "application/vnd.jupyter.widget-view+json": {
       "model_id": "bb596f938bf24558b7601c9c49d775dd",
       "version_major": 2,
       "version_minor": 0
      },
      "text/plain": [
       "  0%|          | 0/50 [00:00<?, ?it/s]"
      ]
     },
     "metadata": {},
     "output_type": "display_data"
    },
    {
     "name": "stdout",
     "output_type": "stream",
     "text": [
      "found a better model!\n",
      "found a better model!\n",
      "found a better model!\n",
      "found a better model!\n",
      "model error: 0.035\n",
      "w: [-0.02026310540134021, 131.52104178037888]\n"
     ]
    },
    {
     "data": {
      "application/vnd.jupyter.widget-view+json": {
       "model_id": "38ad6eba6cfe47a2b2456767682745ab",
       "version_major": 2,
       "version_minor": 0
      },
      "text/plain": [
       "  0%|          | 0/50 [00:00<?, ?it/s]"
      ]
     },
     "metadata": {},
     "output_type": "display_data"
    },
    {
     "name": "stdout",
     "output_type": "stream",
     "text": [
      "found a better model!\n",
      "found a better model!\n",
      "found a better model!\n",
      "found a better model!\n",
      "model error: 0.032\n",
      "w: [-0.03396745538330404, 137.69324385830947]\n"
     ]
    },
    {
     "data": {
      "application/vnd.jupyter.widget-view+json": {
       "model_id": "98864f1f55ce4de6acb1abde76f0ad6e",
       "version_major": 2,
       "version_minor": 0
      },
      "text/plain": [
       "  0%|          | 0/50 [00:00<?, ?it/s]"
      ]
     },
     "metadata": {},
     "output_type": "display_data"
    },
    {
     "name": "stdout",
     "output_type": "stream",
     "text": [
      "found a better model!\n",
      "found a better model!\n",
      "model error: 0.034\n",
      "w: [-0.03047321524697387, 140.65455688977394]\n"
     ]
    },
    {
     "data": {
      "application/vnd.jupyter.widget-view+json": {
       "model_id": "b8350e120a1044fb88b76160edef091d",
       "version_major": 2,
       "version_minor": 0
      },
      "text/plain": [
       "  0%|          | 0/50 [00:00<?, ?it/s]"
      ]
     },
     "metadata": {},
     "output_type": "display_data"
    },
    {
     "name": "stdout",
     "output_type": "stream",
     "text": [
      "found a better model!\n",
      "found a better model!\n",
      "found a better model!\n",
      "found a better model!\n",
      "model error: 0.033\n",
      "w: [-0.014233408986074053, 141.85406154490988]\n"
     ]
    },
    {
     "data": {
      "application/vnd.jupyter.widget-view+json": {
       "model_id": "1e49afc2a2f045fc97e96a0394d426b3",
       "version_major": 2,
       "version_minor": 0
      },
      "text/plain": [
       "  0%|          | 0/50 [00:00<?, ?it/s]"
      ]
     },
     "metadata": {},
     "output_type": "display_data"
    },
    {
     "name": "stdout",
     "output_type": "stream",
     "text": [
      "found a better model!\n",
      "found a better model!\n",
      "model error: 0.040\n",
      "w: [-0.02709308916829229, 148.0365064005986]\n"
     ]
    },
    {
     "data": {
      "application/vnd.jupyter.widget-view+json": {
       "model_id": "19276681d4db450eba94528f7d1a5b89",
       "version_major": 2,
       "version_minor": 0
      },
      "text/plain": [
       "  0%|          | 0/50 [00:00<?, ?it/s]"
      ]
     },
     "metadata": {},
     "output_type": "display_data"
    },
    {
     "name": "stdout",
     "output_type": "stream",
     "text": [
      "found a better model!\n",
      "found a better model!\n",
      "found a better model!\n",
      "model error: 0.052\n",
      "w: [-0.02894475697569822, 150.78201642221916]\n"
     ]
    },
    {
     "data": {
      "application/vnd.jupyter.widget-view+json": {
       "model_id": "dcf0c7d3f9024974bef50cbc0eba7640",
       "version_major": 2,
       "version_minor": 0
      },
      "text/plain": [
       "  0%|          | 0/50 [00:00<?, ?it/s]"
      ]
     },
     "metadata": {},
     "output_type": "display_data"
    },
    {
     "name": "stdout",
     "output_type": "stream",
     "text": [
      "found a better model!\n",
      "model error: 0.065\n",
      "w: [-0.02923193229338306, 152.648933711725]\n"
     ]
    },
    {
     "data": {
      "application/vnd.jupyter.widget-view+json": {
       "model_id": "21b30b4c39f74175ac9cb2740f8f7240",
       "version_major": 2,
       "version_minor": 0
      },
      "text/plain": [
       "  0%|          | 0/50 [00:00<?, ?it/s]"
      ]
     },
     "metadata": {},
     "output_type": "display_data"
    },
    {
     "name": "stdout",
     "output_type": "stream",
     "text": [
      "found a better model!\n",
      "found a better model!\n",
      "model error: 0.072\n",
      "w: [-0.02222002065289034, 155.2602657520621]\n"
     ]
    },
    {
     "data": {
      "application/vnd.jupyter.widget-view+json": {
       "model_id": "f1957729ca4f43498220fc82bdedb3ad",
       "version_major": 2,
       "version_minor": 0
      },
      "text/plain": [
       "  0%|          | 0/50 [00:00<?, ?it/s]"
      ]
     },
     "metadata": {},
     "output_type": "display_data"
    },
    {
     "name": "stdout",
     "output_type": "stream",
     "text": [
      "found a better model!\n",
      "found a better model!\n",
      "found a better model!\n",
      "found a better model!\n",
      "model error: 0.031\n",
      "w: [-0.018231589567297722, 155.69106190048475]\n"
     ]
    },
    {
     "data": {
      "application/vnd.jupyter.widget-view+json": {
       "model_id": "881f886dab0240e589d597adb0e956e1",
       "version_major": 2,
       "version_minor": 0
      },
      "text/plain": [
       "  0%|          | 0/50 [00:00<?, ?it/s]"
      ]
     },
     "metadata": {},
     "output_type": "display_data"
    },
    {
     "name": "stdout",
     "output_type": "stream",
     "text": [
      "found a better model!\n",
      "found a better model!\n",
      "found a better model!\n",
      "model error: 0.037\n",
      "w: [-0.03020745888332983, 161.27744986722175]\n"
     ]
    },
    {
     "data": {
      "application/vnd.jupyter.widget-view+json": {
       "model_id": "f38bd8a5e07044459c03793b8ab62e1a",
       "version_major": 2,
       "version_minor": 0
      },
      "text/plain": [
       "  0%|          | 0/50 [00:00<?, ?it/s]"
      ]
     },
     "metadata": {},
     "output_type": "display_data"
    },
    {
     "name": "stdout",
     "output_type": "stream",
     "text": [
      "found a better model!\n",
      "found a better model!\n",
      "model error: 0.043\n",
      "w: [-0.01576130158274463, 161.0460613812312]\n"
     ]
    },
    {
     "data": {
      "application/vnd.jupyter.widget-view+json": {
       "model_id": "86efc792cdad4f12ae46a9431a8d3ac0",
       "version_major": 2,
       "version_minor": 0
      },
      "text/plain": [
       "  0%|          | 0/50 [00:00<?, ?it/s]"
      ]
     },
     "metadata": {},
     "output_type": "display_data"
    },
    {
     "name": "stdout",
     "output_type": "stream",
     "text": [
      "found a better model!\n",
      "found a better model!\n",
      "found a better model!\n",
      "model error: 0.026\n",
      "w: [-0.01860474621714399, 162.18240646126026]\n"
     ]
    },
    {
     "data": {
      "application/vnd.jupyter.widget-view+json": {
       "model_id": "7b50b3fe710b4aef8659fc8c151f0cd6",
       "version_major": 2,
       "version_minor": 0
      },
      "text/plain": [
       "  0%|          | 0/50 [00:00<?, ?it/s]"
      ]
     },
     "metadata": {},
     "output_type": "display_data"
    },
    {
     "name": "stdout",
     "output_type": "stream",
     "text": [
      "found a better model!\n",
      "found a better model!\n",
      "found a better model!\n",
      "model error: 0.047\n",
      "w: [-0.0249183161933459, 165.35433336289276]\n"
     ]
    },
    {
     "data": {
      "application/vnd.jupyter.widget-view+json": {
       "model_id": "17cb06160b1c489d8cbee6cfe96f1051",
       "version_major": 2,
       "version_minor": 0
      },
      "text/plain": [
       "  0%|          | 0/50 [00:00<?, ?it/s]"
      ]
     },
     "metadata": {},
     "output_type": "display_data"
    },
    {
     "name": "stdout",
     "output_type": "stream",
     "text": [
      "found a better model!\n",
      "found a better model!\n",
      "model error: 0.039\n",
      "w: [-0.013616571861643223, 162.91997620393445]\n"
     ]
    },
    {
     "data": {
      "application/vnd.jupyter.widget-view+json": {
       "model_id": "32e051a811ff4be2b857ff3f285db95b",
       "version_major": 2,
       "version_minor": 0
      },
      "text/plain": [
       "  0%|          | 0/50 [00:00<?, ?it/s]"
      ]
     },
     "metadata": {},
     "output_type": "display_data"
    },
    {
     "name": "stdout",
     "output_type": "stream",
     "text": [
      "found a better model!\n",
      "model error: 0.000\n",
      "w: [5.559646529231325e-11, 159.99999998954152]\n"
     ]
    },
    {
     "data": {
      "application/vnd.jupyter.widget-view+json": {
       "model_id": "6ba7848fd4ba4067bac4bfd11a88815a",
       "version_major": 2,
       "version_minor": 0
      },
      "text/plain": [
       "  0%|          | 0/50 [00:00<?, ?it/s]"
      ]
     },
     "metadata": {},
     "output_type": "display_data"
    },
    {
     "name": "stdout",
     "output_type": "stream",
     "text": [
      "found a better model!\n",
      "model error: 0.000\n",
      "w: [2.0405046220781012e-07, 158.99994886464975]\n"
     ]
    },
    {
     "data": {
      "application/vnd.jupyter.widget-view+json": {
       "model_id": "4d02748e5a694b3ab4e2f9ef0aaccc71",
       "version_major": 2,
       "version_minor": 0
      },
      "text/plain": [
       "  0%|          | 0/50 [00:00<?, ?it/s]"
      ]
     },
     "metadata": {},
     "output_type": "display_data"
    },
    {
     "name": "stdout",
     "output_type": "stream",
     "text": [
      "found a better model!\n",
      "found a better model!\n",
      "found a better model!\n",
      "found a better model!\n",
      "found a better model!\n",
      "model error: 0.000\n",
      "w: [4.897061051454736e-05, 162.99143417572273]\n"
     ]
    },
    {
     "data": {
      "application/vnd.jupyter.widget-view+json": {
       "model_id": "e0242aac25f342ce838b80d3e3ecdb49",
       "version_major": 2,
       "version_minor": 0
      },
      "text/plain": [
       "  0%|          | 0/50 [00:00<?, ?it/s]"
      ]
     },
     "metadata": {},
     "output_type": "display_data"
    },
    {
     "name": "stdout",
     "output_type": "stream",
     "text": [
      "found a better model!\n",
      "found a better model!\n",
      "model error: 0.000\n",
      "w: [1.4646102340438131e-08, 160.99999684216257]\n"
     ]
    },
    {
     "data": {
      "application/vnd.jupyter.widget-view+json": {
       "model_id": "9a6221fa43ce4920a206b751261d98ae",
       "version_major": 2,
       "version_minor": 0
      },
      "text/plain": [
       "  0%|          | 0/50 [00:00<?, ?it/s]"
      ]
     },
     "metadata": {},
     "output_type": "display_data"
    },
    {
     "name": "stdout",
     "output_type": "stream",
     "text": [
      "found a better model!\n",
      "found a better model!\n",
      "found a better model!\n",
      "model error: 0.000\n",
      "w: [2.59470719253997e-07, 161.99995917491518]\n"
     ]
    },
    {
     "data": {
      "application/vnd.jupyter.widget-view+json": {
       "model_id": "c5185bfa1db94cbe86b67ca3cfd6ba06",
       "version_major": 2,
       "version_minor": 0
      },
      "text/plain": [
       "  0%|          | 0/50 [00:00<?, ?it/s]"
      ]
     },
     "metadata": {},
     "output_type": "display_data"
    },
    {
     "name": "stdout",
     "output_type": "stream",
     "text": [
      "found a better model!\n",
      "found a better model!\n",
      "model error: 0.046\n",
      "w: [-0.02329240825864445, 163.71272969490843]\n"
     ]
    },
    {
     "data": {
      "application/vnd.jupyter.widget-view+json": {
       "model_id": "6b7b04d92edd4dca88c9cb51ea705afe",
       "version_major": 2,
       "version_minor": 0
      },
      "text/plain": [
       "  0%|          | 0/50 [00:00<?, ?it/s]"
      ]
     },
     "metadata": {},
     "output_type": "display_data"
    },
    {
     "name": "stdout",
     "output_type": "stream",
     "text": [
      "found a better model!\n",
      "found a better model!\n",
      "model error: 0.020\n",
      "w: [-0.017472702994674284, 158.2090489733145]\n"
     ]
    },
    {
     "data": {
      "application/vnd.jupyter.widget-view+json": {
       "model_id": "900aca6642714f71a3077fb4240bcdaa",
       "version_major": 2,
       "version_minor": 0
      },
      "text/plain": [
       "  0%|          | 0/50 [00:00<?, ?it/s]"
      ]
     },
     "metadata": {},
     "output_type": "display_data"
    },
    {
     "name": "stdout",
     "output_type": "stream",
     "text": [
      "found a better model!\n",
      "model error: 0.000\n",
      "w: [7.772879738415786e-09, 149.99999806300718]\n"
     ]
    },
    {
     "data": {
      "application/vnd.jupyter.widget-view+json": {
       "model_id": "7fa07860e1e9433aaa3452aa6b3ca716",
       "version_major": 2,
       "version_minor": 0
      },
      "text/plain": [
       "  0%|          | 0/50 [00:00<?, ?it/s]"
      ]
     },
     "metadata": {},
     "output_type": "display_data"
    },
    {
     "name": "stdout",
     "output_type": "stream",
     "text": [
      "found a better model!\n",
      "found a better model!\n",
      "model error: 0.033\n",
      "w: [0.01184044788808261, 144.1825784302944]\n"
     ]
    },
    {
     "data": {
      "application/vnd.jupyter.widget-view+json": {
       "model_id": "3d3188d4c67f49f7a1d8a2860ce4d5a8",
       "version_major": 2,
       "version_minor": 0
      },
      "text/plain": [
       "  0%|          | 0/50 [00:00<?, ?it/s]"
      ]
     },
     "metadata": {},
     "output_type": "display_data"
    },
    {
     "name": "stdout",
     "output_type": "stream",
     "text": [
      "found a better model!\n",
      "found a better model!\n",
      "found a better model!\n",
      "model error: 0.000\n",
      "w: [1.2041545783896846e-05, 141.9969361117982]\n"
     ]
    },
    {
     "data": {
      "application/vnd.jupyter.widget-view+json": {
       "model_id": "379cabe121974b46a441cbf898427611",
       "version_major": 2,
       "version_minor": 0
      },
      "text/plain": [
       "  0%|          | 0/50 [00:00<?, ?it/s]"
      ]
     },
     "metadata": {},
     "output_type": "display_data"
    },
    {
     "name": "stdout",
     "output_type": "stream",
     "text": [
      "found a better model!\n",
      "found a better model!\n",
      "found a better model!\n",
      "model error: 0.000\n",
      "w: [2.074463956467405e-11, 135.9999999954525]\n"
     ]
    },
    {
     "data": {
      "application/vnd.jupyter.widget-view+json": {
       "model_id": "6e58af383ade45fb80b649e9f01b1c44",
       "version_major": 2,
       "version_minor": 0
      },
      "text/plain": [
       "  0%|          | 0/50 [00:00<?, ?it/s]"
      ]
     },
     "metadata": {},
     "output_type": "display_data"
    },
    {
     "name": "stdout",
     "output_type": "stream",
     "text": [
      "found a better model!\n",
      "found a better model!\n",
      "found a better model!\n",
      "model error: 0.000\n",
      "w: [5.620536321188274e-07, 132.99989453745047]\n"
     ]
    },
    {
     "data": {
      "application/vnd.jupyter.widget-view+json": {
       "model_id": "ec1dbbcb50bb4a7496f27720d3b8c3aa",
       "version_major": 2,
       "version_minor": 0
      },
      "text/plain": [
       "  0%|          | 0/50 [00:00<?, ?it/s]"
      ]
     },
     "metadata": {},
     "output_type": "display_data"
    },
    {
     "name": "stdout",
     "output_type": "stream",
     "text": [
      "found a better model!\n",
      "found a better model!\n",
      "model error: 0.040\n",
      "w: [-0.006903273637504004, 129.6310309511489]\n"
     ]
    },
    {
     "data": {
      "application/vnd.jupyter.widget-view+json": {
       "model_id": "f9a15a8942424a768e72107dfff425b6",
       "version_major": 2,
       "version_minor": 0
      },
      "text/plain": [
       "  0%|          | 0/50 [00:00<?, ?it/s]"
      ]
     },
     "metadata": {},
     "output_type": "display_data"
    },
    {
     "name": "stdout",
     "output_type": "stream",
     "text": [
      "found a better model!\n",
      "found a better model!\n",
      "model error: 0.000\n",
      "w: [3.4606160968268904e-11, 121.99999999112333]\n"
     ]
    },
    {
     "data": {
      "application/vnd.jupyter.widget-view+json": {
       "model_id": "c977176247b24721b108c853945c7ccb",
       "version_major": 2,
       "version_minor": 0
      },
      "text/plain": [
       "  0%|          | 0/50 [00:00<?, ?it/s]"
      ]
     },
     "metadata": {},
     "output_type": "display_data"
    },
    {
     "name": "stdout",
     "output_type": "stream",
     "text": [
      "found a better model!\n",
      "found a better model!\n",
      "model error: 0.000\n",
      "w: [2.573869800865032e-08, 119.99999468263691]\n"
     ]
    },
    {
     "data": {
      "application/vnd.jupyter.widget-view+json": {
       "model_id": "b2f1cc3318c846bab943efe360e96fcf",
       "version_major": 2,
       "version_minor": 0
      },
      "text/plain": [
       "  0%|          | 0/50 [00:00<?, ?it/s]"
      ]
     },
     "metadata": {},
     "output_type": "display_data"
    },
    {
     "name": "stdout",
     "output_type": "stream",
     "text": [
      "found a better model!\n",
      "found a better model!\n",
      "found a better model!\n",
      "found a better model!\n",
      "found a better model!\n",
      "model error: 0.029\n",
      "w: [-0.019712809322123475, 118.54925601902774]\n"
     ]
    },
    {
     "data": {
      "application/vnd.jupyter.widget-view+json": {
       "model_id": "76ca5a95463e4a6d8cafa0526c30cddf",
       "version_major": 2,
       "version_minor": 0
      },
      "text/plain": [
       "  0%|          | 0/50 [00:00<?, ?it/s]"
      ]
     },
     "metadata": {},
     "output_type": "display_data"
    },
    {
     "name": "stdout",
     "output_type": "stream",
     "text": [
      "found a better model!\n",
      "found a better model!\n",
      "model error: 0.000\n",
      "w: [0.0003200673032235458, 111.96050655412293]\n"
     ]
    },
    {
     "data": {
      "application/vnd.jupyter.widget-view+json": {
       "model_id": "93a399ea4d7648ceb03920a9e62a68b3",
       "version_major": 2,
       "version_minor": 0
      },
      "text/plain": [
       "  0%|          | 0/50 [00:00<?, ?it/s]"
      ]
     },
     "metadata": {},
     "output_type": "display_data"
    },
    {
     "name": "stdout",
     "output_type": "stream",
     "text": [
      "found a better model!\n",
      "found a better model!\n",
      "found a better model!\n",
      "found a better model!\n",
      "model error: 0.035\n",
      "w: [-0.014803688085236149, 110.73143631624505]\n"
     ]
    },
    {
     "data": {
      "application/vnd.jupyter.widget-view+json": {
       "model_id": "a77a1f181c1d40079ece1cf73dafda7c",
       "version_major": 2,
       "version_minor": 0
      },
      "text/plain": [
       "  0%|          | 0/50 [00:00<?, ?it/s]"
      ]
     },
     "metadata": {},
     "output_type": "display_data"
    },
    {
     "name": "stdout",
     "output_type": "stream",
     "text": [
      "found a better model!\n",
      "found a better model!\n",
      "model error: 0.000\n",
      "w: [1.077185770312879e-09, 103.9999997392699]\n"
     ]
    },
    {
     "data": {
      "application/vnd.jupyter.widget-view+json": {
       "model_id": "1483caa5c4294acfb8a26cc2d112784a",
       "version_major": 2,
       "version_minor": 0
      },
      "text/plain": [
       "  0%|          | 0/50 [00:00<?, ?it/s]"
      ]
     },
     "metadata": {},
     "output_type": "display_data"
    },
    {
     "name": "stdout",
     "output_type": "stream",
     "text": [
      "found a better model!\n",
      "found a better model!\n",
      "model error: 0.044\n",
      "w: [-0.01520610928681387, 102.77697314167114]\n"
     ]
    },
    {
     "data": {
      "application/vnd.jupyter.widget-view+json": {
       "model_id": "c2ac49435a564394b0c3a4b9790bc6e5",
       "version_major": 2,
       "version_minor": 0
      },
      "text/plain": [
       "  0%|          | 0/50 [00:00<?, ?it/s]"
      ]
     },
     "metadata": {},
     "output_type": "display_data"
    },
    {
     "name": "stdout",
     "output_type": "stream",
     "text": [
      "found a better model!\n",
      "found a better model!\n",
      "model error: 0.063\n",
      "w: [-0.004995060968508641, 98.67925942376684]\n"
     ]
    },
    {
     "data": {
      "application/vnd.jupyter.widget-view+json": {
       "model_id": "b08bd8e5ef004e559fa2b1e50933411b",
       "version_major": 2,
       "version_minor": 0
      },
      "text/plain": [
       "  0%|          | 0/50 [00:00<?, ?it/s]"
      ]
     },
     "metadata": {},
     "output_type": "display_data"
    },
    {
     "name": "stdout",
     "output_type": "stream",
     "text": [
      "found a better model!\n",
      "found a better model!\n",
      "model error: 0.036\n",
      "w: [-0.01980894490479088, 98.87323920290417]\n"
     ]
    },
    {
     "data": {
      "application/vnd.jupyter.widget-view+json": {
       "model_id": "4671171a69ce47fc9993564b5f63ee82",
       "version_major": 2,
       "version_minor": 0
      },
      "text/plain": [
       "  0%|          | 0/50 [00:00<?, ?it/s]"
      ]
     },
     "metadata": {},
     "output_type": "display_data"
    },
    {
     "name": "stdout",
     "output_type": "stream",
     "text": [
      "found a better model!\n",
      "found a better model!\n",
      "model error: 0.009\n",
      "w: [0.0025583914897861606, 89.2633354634405]\n"
     ]
    },
    {
     "data": {
      "application/vnd.jupyter.widget-view+json": {
       "model_id": "247f87a9b4ee4188b39f606fba87bc49",
       "version_major": 2,
       "version_minor": 0
      },
      "text/plain": [
       "  0%|          | 0/50 [00:00<?, ?it/s]"
      ]
     },
     "metadata": {},
     "output_type": "display_data"
    },
    {
     "name": "stdout",
     "output_type": "stream",
     "text": [
      "found a better model!\n",
      "found a better model!\n",
      "model error: 0.065\n",
      "w: [-0.08230063014255237, 107.74951908912188]\n"
     ]
    },
    {
     "data": {
      "application/vnd.jupyter.widget-view+json": {
       "model_id": "edf940c3dd7c419da559cf6ddfd47814",
       "version_major": 2,
       "version_minor": 0
      },
      "text/plain": [
       "  0%|          | 0/50 [00:00<?, ?it/s]"
      ]
     },
     "metadata": {},
     "output_type": "display_data"
    },
    {
     "name": "stdout",
     "output_type": "stream",
     "text": [
      "found a better model!\n",
      "model error: 0.061\n",
      "w: [-0.04423135479933295, 100.12977933187472]\n"
     ]
    },
    {
     "data": {
      "application/vnd.jupyter.widget-view+json": {
       "model_id": "a5d4b32f840c46519f53759f916ff6b3",
       "version_major": 2,
       "version_minor": 0
      },
      "text/plain": [
       "  0%|          | 0/50 [00:00<?, ?it/s]"
      ]
     },
     "metadata": {},
     "output_type": "display_data"
    },
    {
     "name": "stdout",
     "output_type": "stream",
     "text": [
      "found a better model!\n",
      "model error: 0.060\n",
      "w: [-0.02652011063005514, 94.04884987940144]\n"
     ]
    },
    {
     "data": {
      "application/vnd.jupyter.widget-view+json": {
       "model_id": "8202fcfd92b4450ab839151630554131",
       "version_major": 2,
       "version_minor": 0
      },
      "text/plain": [
       "  0%|          | 0/50 [00:00<?, ?it/s]"
      ]
     },
     "metadata": {},
     "output_type": "display_data"
    },
    {
     "name": "stdout",
     "output_type": "stream",
     "text": [
      "found a better model!\n",
      "model error: 0.036\n",
      "w: [-0.031892978762127294, 93.948146187526]\n"
     ]
    },
    {
     "data": {
      "application/vnd.jupyter.widget-view+json": {
       "model_id": "c5c1bf14d8c14a0398e5ff29d94ab36b",
       "version_major": 2,
       "version_minor": 0
      },
      "text/plain": [
       "  0%|          | 0/50 [00:00<?, ?it/s]"
      ]
     },
     "metadata": {},
     "output_type": "display_data"
    },
    {
     "name": "stdout",
     "output_type": "stream",
     "text": [
      "found a better model!\n",
      "model error: 0.048\n",
      "w: [-0.02407092280572154, 91.91574557046849]\n"
     ]
    },
    {
     "data": {
      "application/vnd.jupyter.widget-view+json": {
       "model_id": "fc7f653b93684bcd8e845313eefd2cf6",
       "version_major": 2,
       "version_minor": 0
      },
      "text/plain": [
       "  0%|          | 0/50 [00:00<?, ?it/s]"
      ]
     },
     "metadata": {},
     "output_type": "display_data"
    },
    {
     "name": "stdout",
     "output_type": "stream",
     "text": [
      "found a better model!\n",
      "found a better model!\n",
      "model error: 0.079\n",
      "w: [-0.04010597816457214, 97.28753112465797]\n"
     ]
    },
    {
     "data": {
      "application/vnd.jupyter.widget-view+json": {
       "model_id": "d5e1ce98b18d4376b394caef8ca44efd",
       "version_major": 2,
       "version_minor": 0
      },
      "text/plain": [
       "  0%|          | 0/50 [00:00<?, ?it/s]"
      ]
     },
     "metadata": {},
     "output_type": "display_data"
    },
    {
     "name": "stdout",
     "output_type": "stream",
     "text": [
      "found a better model!\n",
      "found a better model!\n",
      "model error: 0.049\n",
      "w: [0.009123813182680648, 84.29734271595385]\n"
     ]
    },
    {
     "data": {
      "application/vnd.jupyter.widget-view+json": {
       "model_id": "877ab9c36fe14dd2a75a0f254a5465b0",
       "version_major": 2,
       "version_minor": 0
      },
      "text/plain": [
       "  0%|          | 0/50 [00:00<?, ?it/s]"
      ]
     },
     "metadata": {},
     "output_type": "display_data"
    },
    {
     "name": "stdout",
     "output_type": "stream",
     "text": [
      "found a better model!\n",
      "model error: 0.052\n",
      "w: [-0.025486632695822853, 92.21037711094702]\n"
     ]
    },
    {
     "data": {
      "application/vnd.jupyter.widget-view+json": {
       "model_id": "66c042c18bae4cf09fe62821eb6812e2",
       "version_major": 2,
       "version_minor": 0
      },
      "text/plain": [
       "  0%|          | 0/50 [00:00<?, ?it/s]"
      ]
     },
     "metadata": {},
     "output_type": "display_data"
    },
    {
     "name": "stdout",
     "output_type": "stream",
     "text": [
      "found a better model!\n",
      "model error: 0.054\n",
      "w: [-0.02632803446931431, 93.26827395422241]\n"
     ]
    },
    {
     "data": {
      "application/vnd.jupyter.widget-view+json": {
       "model_id": "90cddc4806bd4837bb2df1b94f875cda",
       "version_major": 2,
       "version_minor": 0
      },
      "text/plain": [
       "  0%|          | 0/50 [00:00<?, ?it/s]"
      ]
     },
     "metadata": {},
     "output_type": "display_data"
    },
    {
     "name": "stdout",
     "output_type": "stream",
     "text": [
      "found a better model!\n",
      "found a better model!\n",
      "found a better model!\n",
      "model error: 0.033\n",
      "w: [-0.039175380354591005, 98.8561308210945]\n"
     ]
    },
    {
     "data": {
      "application/vnd.jupyter.widget-view+json": {
       "model_id": "51cc124074e64814a064112ee89e0d8a",
       "version_major": 2,
       "version_minor": 0
      },
      "text/plain": [
       "  0%|          | 0/50 [00:00<?, ?it/s]"
      ]
     },
     "metadata": {},
     "output_type": "display_data"
    },
    {
     "name": "stdout",
     "output_type": "stream",
     "text": [
      "found a better model!\n",
      "model error: 0.045\n",
      "w: [-0.05480551440128191, 104.67058876455445]\n"
     ]
    },
    {
     "data": {
      "application/vnd.jupyter.widget-view+json": {
       "model_id": "d001248da9a64e0bbcf485fa9aeb6150",
       "version_major": 2,
       "version_minor": 0
      },
      "text/plain": [
       "  0%|          | 0/50 [00:00<?, ?it/s]"
      ]
     },
     "metadata": {},
     "output_type": "display_data"
    },
    {
     "name": "stdout",
     "output_type": "stream",
     "text": [
      "found a better model!\n",
      "found a better model!\n",
      "model error: 0.073\n",
      "w: [-0.009955398662892764, 96.44143870263945]\n"
     ]
    },
    {
     "data": {
      "application/vnd.jupyter.widget-view+json": {
       "model_id": "51c774492afd45e9a271db8f76e57b80",
       "version_major": 2,
       "version_minor": 0
      },
      "text/plain": [
       "  0%|          | 0/50 [00:00<?, ?it/s]"
      ]
     },
     "metadata": {},
     "output_type": "display_data"
    },
    {
     "name": "stdout",
     "output_type": "stream",
     "text": [
      "found a better model!\n",
      "found a better model!\n",
      "model error: 0.042\n",
      "w: [-0.06065440663362494, 114.86972352590608]\n"
     ]
    },
    {
     "data": {
      "application/vnd.jupyter.widget-view+json": {
       "model_id": "735726038a544bed8bd5a7e016b2841e",
       "version_major": 2,
       "version_minor": 0
      },
      "text/plain": [
       "  0%|          | 0/50 [00:00<?, ?it/s]"
      ]
     },
     "metadata": {},
     "output_type": "display_data"
    },
    {
     "name": "stdout",
     "output_type": "stream",
     "text": [
      "found a better model!\n",
      "model error: 0.060\n",
      "w: [-0.04452267597176785, 116.0710982970154]\n"
     ]
    },
    {
     "data": {
      "application/vnd.jupyter.widget-view+json": {
       "model_id": "806bda8b34df442f9ffbde844dc97fdc",
       "version_major": 2,
       "version_minor": 0
      },
      "text/plain": [
       "  0%|          | 0/50 [00:00<?, ?it/s]"
      ]
     },
     "metadata": {},
     "output_type": "display_data"
    },
    {
     "name": "stdout",
     "output_type": "stream",
     "text": [
      "found a better model!\n",
      "model error: 0.030\n",
      "w: [-0.023839828735869515, 112.02858455897126]\n"
     ]
    },
    {
     "data": {
      "application/vnd.jupyter.widget-view+json": {
       "model_id": "c93c301f26cc48afb93328c9a95bb6e7",
       "version_major": 2,
       "version_minor": 0
      },
      "text/plain": [
       "  0%|          | 0/50 [00:00<?, ?it/s]"
      ]
     },
     "metadata": {},
     "output_type": "display_data"
    },
    {
     "name": "stdout",
     "output_type": "stream",
     "text": [
      "found a better model!\n",
      "model error: 0.062\n",
      "w: [-0.06937721160616969, 125.31180644571457]\n"
     ]
    },
    {
     "data": {
      "application/vnd.jupyter.widget-view+json": {
       "model_id": "58f9a5096f0445e49f2b7bba445f6885",
       "version_major": 2,
       "version_minor": 0
      },
      "text/plain": [
       "  0%|          | 0/50 [00:00<?, ?it/s]"
      ]
     },
     "metadata": {},
     "output_type": "display_data"
    },
    {
     "name": "stdout",
     "output_type": "stream",
     "text": [
      "found a better model!\n",
      "model error: 0.055\n",
      "w: [-0.0550857827409689, 126.33108064764396]\n"
     ]
    },
    {
     "data": {
      "application/vnd.jupyter.widget-view+json": {
       "model_id": "7398e98371784d4eaf0d64237caf6b97",
       "version_major": 2,
       "version_minor": 0
      },
      "text/plain": [
       "  0%|          | 0/50 [00:00<?, ?it/s]"
      ]
     },
     "metadata": {},
     "output_type": "display_data"
    },
    {
     "name": "stdout",
     "output_type": "stream",
     "text": [
      "found a better model!\n",
      "model error: 0.043\n",
      "w: [-0.029928158990172333, 123.95217872968422]\n"
     ]
    },
    {
     "data": {
      "application/vnd.jupyter.widget-view+json": {
       "model_id": "354e7e193ff94c2683911fa3030acf88",
       "version_major": 2,
       "version_minor": 0
      },
      "text/plain": [
       "  0%|          | 0/50 [00:00<?, ?it/s]"
      ]
     },
     "metadata": {},
     "output_type": "display_data"
    },
    {
     "name": "stdout",
     "output_type": "stream",
     "text": [
      "found a better model!\n",
      "model error: 0.068\n",
      "w: [-0.02106462413917019, 123.30401527874541]\n"
     ]
    },
    {
     "data": {
      "application/vnd.jupyter.widget-view+json": {
       "model_id": "8a52d5bf95cd4d619df4848bcab745bf",
       "version_major": 2,
       "version_minor": 0
      },
      "text/plain": [
       "  0%|          | 0/50 [00:00<?, ?it/s]"
      ]
     },
     "metadata": {},
     "output_type": "display_data"
    },
    {
     "ename": "AttributeError",
     "evalue": "'NoneType' object has no attribute 'error'",
     "output_type": "error",
     "traceback": [
      "\u001b[1;31m---------------------------------------------------------------------------\u001b[0m",
      "\u001b[1;31mAttributeError\u001b[0m                            Traceback (most recent call last)",
      "\u001b[1;32m~\\AppData\\Local\\Temp/ipykernel_2744/2397559731.py\u001b[0m in \u001b[0;36m<module>\u001b[1;34m\u001b[0m\n\u001b[0;32m      5\u001b[0m     \u001b[0mfront\u001b[0m \u001b[1;33m=\u001b[0m \u001b[0mestimar_fronteira\u001b[0m\u001b[1;33m(\u001b[0m\u001b[0mim\u001b[0m\u001b[1;33m)\u001b[0m\u001b[1;33m\u001b[0m\u001b[1;33m\u001b[0m\u001b[0m\n\u001b[0;32m      6\u001b[0m     \u001b[0mfront\u001b[0m \u001b[1;33m=\u001b[0m \u001b[0miqr_filter\u001b[0m\u001b[1;33m(\u001b[0m\u001b[0mfront\u001b[0m\u001b[1;33m)\u001b[0m\u001b[1;33m\u001b[0m\u001b[1;33m\u001b[0m\u001b[0m\n\u001b[1;32m----> 7\u001b[1;33m     \u001b[0mresults\u001b[0m\u001b[1;33m.\u001b[0m\u001b[0mappend\u001b[0m\u001b[1;33m(\u001b[0m\u001b[0mestimar_modelo_linear\u001b[0m\u001b[1;33m(\u001b[0m\u001b[0mfront\u001b[0m\u001b[1;33m)\u001b[0m\u001b[1;33m)\u001b[0m\u001b[1;33m\u001b[0m\u001b[1;33m\u001b[0m\u001b[0m\n\u001b[0m",
      "\u001b[1;32m~\\AppData\\Local\\Temp/ipykernel_2744/2891258215.py\u001b[0m in \u001b[0;36mestimar_modelo_linear\u001b[1;34m(front)\u001b[0m\n\u001b[0;32m     33\u001b[0m     \u001b[0mpgb\u001b[0m\u001b[1;33m.\u001b[0m\u001b[0mclose\u001b[0m\u001b[1;33m(\u001b[0m\u001b[1;33m)\u001b[0m\u001b[1;33m\u001b[0m\u001b[1;33m\u001b[0m\u001b[0m\n\u001b[0;32m     34\u001b[0m \u001b[1;33m\u001b[0m\u001b[0m\n\u001b[1;32m---> 35\u001b[1;33m     \u001b[0mprint\u001b[0m\u001b[1;33m(\u001b[0m\u001b[1;34m\"model error: %.3f\"\u001b[0m \u001b[1;33m%\u001b[0m \u001b[0mopt\u001b[0m\u001b[1;33m.\u001b[0m\u001b[0mbestModel\u001b[0m\u001b[1;33m.\u001b[0m\u001b[0merror\u001b[0m\u001b[1;33m(\u001b[0m\u001b[1;33m)\u001b[0m\u001b[1;33m)\u001b[0m\u001b[1;33m\u001b[0m\u001b[1;33m\u001b[0m\u001b[0m\n\u001b[0m\u001b[0;32m     36\u001b[0m     \u001b[0mopt\u001b[0m\u001b[1;33m.\u001b[0m\u001b[0mprintParams\u001b[0m\u001b[1;33m(\u001b[0m\u001b[1;33m)\u001b[0m\u001b[1;33m\u001b[0m\u001b[1;33m\u001b[0m\u001b[0m\n\u001b[0;32m     37\u001b[0m     \u001b[0ma\u001b[0m\u001b[1;33m,\u001b[0m \u001b[0mb\u001b[0m \u001b[1;33m=\u001b[0m \u001b[0mopt\u001b[0m\u001b[1;33m.\u001b[0m\u001b[0mgetParams\u001b[0m\u001b[1;33m(\u001b[0m\u001b[1;33m)\u001b[0m\u001b[1;33m\u001b[0m\u001b[1;33m\u001b[0m\u001b[0m\n",
      "\u001b[1;31mAttributeError\u001b[0m: 'NoneType' object has no attribute 'error'"
     ]
    },
    {
     "data": {
      "image/png": "[encoded data removed]",
      "text/plain": [
       "<Figure size 432x288 with 1 Axes>"
      ]
     },
     "metadata": {
      "needs_background": "light"
     },
     "output_type": "display_data"
    }
   ],
   "source": [
    "results = []\n",
    "for i in range(299):\n",
    "    im = Image.open(\"../../../../Dataset/VIS_Onboard/VIS_Onboard_frames/MVI_0804_VIS_OB_frame\" + str(i) + \".jpg\")\n",
    "    im = im.convert(\"L\")\n",
    "    front = estimar_fronteira(im)\n",
    "    front = iqr_filter(front)\n",
    "    results.append(estimar_modelo_linear(front))"
   ]
  },
  {
   "cell_type": "code",
   "execution_count": null,
   "id": "8044c05d",
   "metadata": {},
   "outputs": [],
   "source": []
  }
 ],
 "metadata": {
  "kernelspec": {
   "display_name": "Python 3 (ipykernel)",
   "language": "python",
   "name": "python3"
  },
  "language_info": {
   "codemirror_mode": {
    "name": "ipython",
    "version": 3
   },
   "file_extension": ".py",
   "mimetype": "text/x-python",
   "name": "python",
   "nbconvert_exporter": "python",
   "pygments_lexer": "ipython3",
   "version": "3.9.7"
  }
 },
 "nbformat": 4,
 "nbformat_minor": 5
}
