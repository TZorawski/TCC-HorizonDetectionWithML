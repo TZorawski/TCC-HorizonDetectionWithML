{
 "cells": [
  {
   "cell_type": "markdown",
   "metadata": {},
   "source": [
    "Precisão:\n",
    "0: 0.99\n",
    "1: 0.0516\n",
    "\n",
    "f1 score:\n",
    "0: 0.995\n",
    "1: 0.033\n",
    "\n",
    "recall:\n",
    "0: 0.998\n",
    "1: 0.028\n",
    "\n",
    "Acurácia: 0.988"
   ]
  },
  {
   "cell_type": "code",
   "execution_count": 1,
   "metadata": {},
   "outputs": [],
   "source": [
    "import pandas as pd\n",
    "import numpy as np\n",
    "import matplotlib.pyplot as plt\n",
    "from sklearn.model_selection import train_test_split\n",
    "from sklearn.metrics import classification_report, confusion_matrix"
   ]
  },
  {
   "cell_type": "code",
   "execution_count": 2,
   "metadata": {},
   "outputs": [],
   "source": [
    "videos_train = ['MVI_0788_VIS_OB']\n",
    "video_test = 'MVI_0804_VIS_OB'\n",
    "\n"
   ]
  },
  {
   "cell_type": "code",
   "execution_count": 2,
   "metadata": {},
   "outputs": [],
   "source": [
    "videos_train = ['MVI_0788_VIS_OB', 'MVI_0789_VIS_OB', 'MVI_0792_VIS_OB', 'MVI_0794_VIS_OB', 'MVI_0796_VIS_OB']\n",
    "video_test = 'MVI_0804_VIS_OB'\n",
    "\n",
    "# done"
   ]
  },
  {
   "cell_type": "code",
   "execution_count": 2,
   "metadata": {},
   "outputs": [],
   "source": [
    "videos_train = ['MVI_0788_VIS_OB', 'MVI_0789_VIS_OB', 'MVI_0792_VIS_OB', 'MVI_0794_VIS_OB', 'MVI_0804_VIS_OB']\n",
    "video_test = 'MVI_0796_VIS_OB'\n",
    "\n",
    "# done"
   ]
  },
  {
   "cell_type": "code",
   "execution_count": 2,
   "metadata": {},
   "outputs": [],
   "source": [
    "videos_train = ['MVI_0788_VIS_OB', 'MVI_0789_VIS_OB', 'MVI_0792_VIS_OB', 'MVI_0796_VIS_OB', 'MVI_0804_VIS_OB']\n",
    "video_test = 'MVI_0794_VIS_OB'\n",
    "\n",
    "# done"
   ]
  },
  {
   "cell_type": "code",
   "execution_count": 2,
   "metadata": {},
   "outputs": [],
   "source": [
    "videos_train = ['MVI_0788_VIS_OB', 'MVI_0789_VIS_OB', 'MVI_0794_VIS_OB', 'MVI_0796_VIS_OB', 'MVI_0804_VIS_OB']\n",
    "video_test = 'MVI_0792_VIS_OB'\n",
    "\n",
    "# done"
   ]
  },
  {
   "cell_type": "code",
   "execution_count": 2,
   "metadata": {},
   "outputs": [],
   "source": [
    "videos_train = ['MVI_0788_VIS_OB', 'MVI_0792_VIS_OB', 'MVI_0794_VIS_OB', 'MVI_0796_VIS_OB', 'MVI_0804_VIS_OB']\n",
    "video_test = 'MVI_0789_VIS_OB'\n",
    "\n",
    "# done"
   ]
  },
  {
   "cell_type": "code",
   "execution_count": 2,
   "metadata": {},
   "outputs": [],
   "source": [
    "videos_train = ['MVI_0789_VIS_OB', 'MVI_0792_VIS_OB', 'MVI_0794_VIS_OB', 'MVI_0796_VIS_OB', 'MVI_0804_VIS_OB']\n",
    "video_test = 'MVI_0788_VIS_OB'\n",
    "\n",
    "# using"
   ]
  },
  {
   "cell_type": "code",
   "execution_count": 3,
   "metadata": {},
   "outputs": [
    {
     "name": "stdout",
     "output_type": "stream",
     "text": [
      "0\n",
      "20\n",
      "40\n",
      "60\n",
      "80\n",
      "100\n",
      "120\n",
      "140\n",
      "160\n",
      "180\n",
      "200\n",
      "220\n",
      "240\n",
      "260\n",
      "1\n",
      "0\n",
      "20\n",
      "40\n",
      "60\n",
      "80\n",
      "100\n",
      "120\n",
      "140\n",
      "160\n",
      "180\n",
      "200\n",
      "220\n",
      "240\n",
      "260\n",
      "280\n",
      "2\n",
      "0\n",
      "20\n",
      "40\n",
      "60\n",
      "80\n",
      "100\n",
      "120\n",
      "140\n",
      "160\n",
      "180\n",
      "200\n",
      "220\n",
      "240\n",
      "260\n",
      "280\n",
      "3\n",
      "0\n",
      "20\n",
      "40\n",
      "60\n",
      "80\n",
      "100\n",
      "120\n",
      "140\n",
      "160\n",
      "180\n",
      "200\n",
      "220\n",
      "240\n",
      "260\n",
      "280\n",
      "4\n",
      "0\n",
      "20\n",
      "40\n",
      "60\n",
      "80\n",
      "100\n",
      "120\n",
      "140\n",
      "160\n",
      "180\n",
      "200\n",
      "220\n",
      "240\n",
      "260\n",
      "280\n"
     ]
    }
   ],
   "source": [
    "# Reads bank currency note data into pandas dataframe - TRAIN\n",
    "bankdata_train = pd.read_csv(\"../METEP/Features/\" + videos_train[0] + \"R_frame0.csv\")\n",
    "\n",
    "for i in range (len(videos_train)):\n",
    "    k = 0\n",
    "    print(i)\n",
    "    if i == 0:\n",
    "        k = 20\n",
    "    while k < 299:\n",
    "        print(k)\n",
    "        bankdata_train = bankdata_train.append(pd.read_csv(\"../METEP/Features/\" + videos_train[i] + \"R_frame\" + str(k) + \".csv\"))\n",
    "        k += 20\n",
    "        if videos_train[i] == 'MVI_0789_VIS_OB' and k == 280:\n",
    "            k = 400\n",
    "\n",
    "# Show number of lines and columns\n",
    "#bankdata.shape\n",
    "# Show a able wih some lines of he daa\n",
    "#bankdata.head()"
   ]
  },
  {
   "cell_type": "code",
   "execution_count": 6,
   "metadata": {},
   "outputs": [
    {
     "name": "stdout",
     "output_type": "stream",
     "text": [
      "       intensityR  intensityG  intensityB   meanR   meanG   meanB        sdR  \\\n",
      "0             228         227         245  225.30  225.20  242.55   3.192479   \n",
      "1             226         225         243  225.44  225.19  242.08   3.029551   \n",
      "2             226         225         241  225.55  225.15  241.57   2.934900   \n",
      "3             227         226         242  225.64  225.05  241.01   2.928508   \n",
      "4             228         227         241  225.71  224.93  240.49   2.818750   \n",
      "...           ...         ...         ...     ...     ...     ...        ...   \n",
      "89995         101         121         132   87.76  109.22  119.90  12.768427   \n",
      "89996          80         102         113   87.23  109.27  119.81  13.265627   \n",
      "89997          80         104         114   85.79  108.53  118.89  13.660601   \n",
      "89998          80         107         116   82.98  106.42  116.60  12.295174   \n",
      "89999          71          98         107   80.37  104.31  114.39  10.579812   \n",
      "\n",
      "             sdG        sdB  entropyR  entropyG  entropyB  smoothnessR  \\\n",
      "0       1.869478   1.892969  2.655586  2.347943  2.470843     0.910650   \n",
      "1       1.750584   2.072816  2.719777  2.362661  2.684552     0.901751   \n",
      "2       1.695955   2.170765  2.721776  2.401498  2.879365     0.895981   \n",
      "3       1.860678   2.289612  2.923960  2.519288  3.041878     0.895574   \n",
      "4       1.886984   2.190406  2.909352  2.554991  3.055302     0.888210   \n",
      "...          ...        ...       ...       ...       ...          ...   \n",
      "89995  11.096983  11.500110  4.192660  4.416176  4.313717     0.993904   \n",
      "89996  11.133583  11.649507  3.981133  4.199849  4.129073     0.994350   \n",
      "89997  11.378213  11.951835  3.676231  3.947236  3.984589     0.994670   \n",
      "89998  10.345721  10.837645  3.423067  3.685945  3.754911     0.993428   \n",
      "89999   8.843984   9.336466  3.043391  3.350101  3.377650     0.991145   \n",
      "\n",
      "       smoothnessG  smoothnessB  class  \n",
      "0         0.777528     0.781818      0  \n",
      "1         0.753970     0.811198      0  \n",
      "2         0.742020     0.824937      0  \n",
      "3         0.775891     0.839803      0  \n",
      "4         0.780736     0.827523      0  \n",
      "...            ...          ...    ...  \n",
      "89995     0.991945     0.992495      0  \n",
      "89996     0.991997     0.992685      0  \n",
      "89997     0.992335     0.993048      0  \n",
      "89998     0.990744     0.991558      0  \n",
      "89999     0.987376     0.988658      0  \n",
      "\n",
      "[6660000 rows x 16 columns]\n"
     ]
    }
   ],
   "source": [
    "print(bankdata_train)"
   ]
  },
  {
   "cell_type": "code",
   "execution_count": 4,
   "metadata": {},
   "outputs": [
    {
     "name": "stdout",
     "output_type": "stream",
     "text": [
      "20\n",
      "40\n",
      "60\n",
      "80\n",
      "100\n",
      "120\n",
      "140\n",
      "160\n",
      "180\n",
      "200\n",
      "220\n",
      "240\n",
      "260\n",
      "280\n"
     ]
    }
   ],
   "source": [
    "# Reads bank currency note data into pandas dataframe - TEST\n",
    "\n",
    "bankdata_test = pd.read_csv(\"../METEP/Features/\" + video_test + \"R_frame0.csv\")\n",
    "\n",
    "k = 20\n",
    "while k < 299:\n",
    "    print(k)\n",
    "    bankdata_test = bankdata_test.append(pd.read_csv(\"../METEP/Features/\" + video_test + \"R_frame\" + str(k) + \".csv\"))\n",
    "    k += 20\n",
    "    if video_test == 'MVI_0789_VIS_OB' and k == 280:\n",
    "            k = 400"
   ]
  },
  {
   "cell_type": "code",
   "execution_count": 5,
   "metadata": {},
   "outputs": [],
   "source": [
    "# Divide the data into attributes and labels\n",
    "\n",
    "# Store attributes\n",
    "X_train = bankdata_train.drop('class', axis=1)\n",
    "# Store labels\n",
    "y_train = bankdata_train['class']\n",
    "\n",
    "# Store attributes\n",
    "X_test = bankdata_test.drop('class', axis=1)\n",
    "# Store labels\n",
    "y_test = bankdata_test['class']"
   ]
  },
  {
   "cell_type": "code",
   "execution_count": 6,
   "metadata": {},
   "outputs": [],
   "source": [
    "# Normalizando as bases\n",
    "\n",
    "from sklearn.preprocessing import StandardScaler\n",
    "\n",
    "sc_X = StandardScaler()\n",
    "\n",
    "X_train = sc_X.fit_transform(X_train)\n",
    "X_test = sc_X.transform(X_test)"
   ]
  },
  {
   "cell_type": "code",
   "execution_count": 15,
   "metadata": {},
   "outputs": [
    {
     "data": {
      "text/plain": [
       "(6660000, 15)"
      ]
     },
     "execution_count": 15,
     "metadata": {},
     "output_type": "execute_result"
    }
   ],
   "source": [
    "type(X_train)\n",
    "X_train.shape"
   ]
  },
  {
   "cell_type": "markdown",
   "metadata": {},
   "source": [
    "--------------\n",
    "### Kmeans"
   ]
  },
  {
   "cell_type": "code",
   "execution_count": 7,
   "metadata": {},
   "outputs": [],
   "source": [
    "mask_Sky = y_train == 1\n",
    "mask_NonSky = y_train == 0"
   ]
  },
  {
   "cell_type": "code",
   "execution_count": 8,
   "metadata": {},
   "outputs": [],
   "source": [
    "from sklearn.cluster import MiniBatchKMeans\n",
    "\n",
    "km = MiniBatchKMeans(\n",
    "    n_clusters=100, init='k-means++',\n",
    "    n_init=10, max_iter=300, \n",
    "    tol=1e-04\n",
    ")\n",
    "\n",
    "Sky_km = km.fit(X_train[mask_Sky])\n",
    "sky = km.cluster_centers_\n",
    "\n",
    "NonSky_km = km.fit(X_train[mask_NonSky])\n",
    "nonsky = km.cluster_centers_\n",
    "\n",
    "features = np.concatenate([sky, nonsky])\n",
    "\n",
    "class_Sky = np.ones((100), dtype=np.int8)\n",
    "class_NonSky = np.zeros((100), dtype=np.int8)\n",
    "\n",
    "classes = np.concatenate([class_Sky, class_NonSky])"
   ]
  },
  {
   "cell_type": "code",
   "execution_count": 26,
   "metadata": {},
   "outputs": [
    {
     "data": {
      "text/plain": [
       "(200,)"
      ]
     },
     "execution_count": 26,
     "metadata": {},
     "output_type": "execute_result"
    }
   ],
   "source": [
    "classes.shape"
   ]
  },
  {
   "cell_type": "code",
   "execution_count": 27,
   "metadata": {},
   "outputs": [
    {
     "data": {
      "text/plain": [
       "(200, 15)"
      ]
     },
     "execution_count": 27,
     "metadata": {},
     "output_type": "execute_result"
    }
   ],
   "source": [
    "features.shape"
   ]
  },
  {
   "cell_type": "markdown",
   "metadata": {},
   "source": [
    "--------------\n",
    "\n",
    "### Training the Algorithm"
   ]
  },
  {
   "cell_type": "code",
   "execution_count": 9,
   "metadata": {},
   "outputs": [
    {
     "data": {
      "text/plain": [
       "KNeighborsClassifier()"
      ]
     },
     "execution_count": 9,
     "metadata": {},
     "output_type": "execute_result"
    }
   ],
   "source": [
    "# Train the model\n",
    "from sklearn.neighbors import KNeighborsClassifier\n",
    "knn = KNeighborsClassifier(n_neighbors=5)\n",
    "knn.fit(features, classes)"
   ]
  },
  {
   "cell_type": "code",
   "execution_count": 10,
   "metadata": {},
   "outputs": [],
   "source": [
    "y_pred = knn.predict(X_test)"
   ]
  },
  {
   "cell_type": "code",
   "execution_count": 11,
   "metadata": {
    "scrolled": true
   },
   "outputs": [
    {
     "name": "stdout",
     "output_type": "stream",
     "text": [
      "[[1057272  284118]\n",
      " [   4438    4172]]\n",
      "              precision    recall  f1-score   support\n",
      "\n",
      "           0       1.00      0.79      0.88   1341390\n",
      "           1       0.01      0.48      0.03      8610\n",
      "\n",
      "    accuracy                           0.79   1350000\n",
      "   macro avg       0.51      0.64      0.45   1350000\n",
      "weighted avg       0.99      0.79      0.87   1350000\n",
      "\n"
     ]
    }
   ],
   "source": [
    "from sklearn.metrics import classification_report, confusion_matrix\n",
    "print(confusion_matrix(y_test,y_pred))\n",
    "print(classification_report(y_test,y_pred))"
   ]
  },
  {
   "cell_type": "code",
   "execution_count": null,
   "metadata": {},
   "outputs": [],
   "source": []
  }
 ],
 "metadata": {
  "kernelspec": {
   "display_name": "Python 3",
   "language": "python",
   "name": "python3"
  },
  "language_info": {
   "codemirror_mode": {
    "name": "ipython",
    "version": 3
   },
   "file_extension": ".py",
   "mimetype": "text/x-python",
   "name": "python",
   "nbconvert_exporter": "python",
   "pygments_lexer": "ipython3",
   "version": "3.6.2"
  }
 },
 "nbformat": 4,
 "nbformat_minor": 4
}
